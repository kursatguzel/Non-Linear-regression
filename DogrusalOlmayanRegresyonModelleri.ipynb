{
  "nbformat": 4,
  "nbformat_minor": 0,
  "metadata": {
    "colab": {
      "name": "DogrusalOlmayanRegresyonModelleri.ipynb",
      "provenance": [],
      "collapsed_sections": [
        "4JLlQaERRlpm",
        "riyBhQzlR9MT",
        "s2oTCznDUzuB",
        "TNhHU70aHjA5",
        "iHAjr-U6YU8U",
        "stolr8Rffv6v",
        "vIOKdgrkf2Up",
        "kb_dXZcOf8Hk",
        "3gmYsZ3MhflK",
        "wvxdVyDza9Zd",
        "Yzxi0jxRbERl",
        "93DnmmAtbI8h",
        "noLWnzDwbNV6",
        "Swrece1edoRN",
        "kCuPx2Ehtbxc",
        "BOy-YYXrtmgr",
        "3Sc1douHtpZ7",
        "0Wuh3B3luJsv",
        "P-USV7Uhsjot",
        "doGIwjDpswg9",
        "S44N2bD8s2Fo",
        "u8PZRRNWtB4a",
        "PZ4luK8buE-2",
        "tLCR_GK60XB3",
        "ztsWXDXu4Q36",
        "GJdIqKIe4aDM",
        "LzWDHNMk4cv1",
        "XKQ1rr2Q4i--",
        "JrKFJlZy47Py",
        "8vE13plm8oPr",
        "9slhdDQV9EjC",
        "4HTX64BQ9R4U",
        "UBsxeEtx9WrN",
        "tqbu91pl9eTS",
        "uqx0g0yJ_l6R",
        "2JyNl9NCBvj9",
        "erpCiJ-kB7V5",
        "khJdOHQZCSsy",
        "VcZDMz4yDgfi",
        "nvowXU9AD2Rz",
        "SpEdhSfZFqwZ",
        "ocy1S4ryGjvI",
        "b5gIt2ssGmAe",
        "QMYqHGOFHhDU",
        "JdiFB2TXkfW5"
      ],
      "toc_visible": true
    },
    "kernelspec": {
      "name": "python3",
      "display_name": "Python 3"
    },
    "language_info": {
      "name": "python"
    },
    "accelerator": "GPU"
  },
  "cells": [
    {
      "cell_type": "code",
      "metadata": {
        "id": "M7OgBQJCRdRx",
        "colab": {
          "base_uri": "https://localhost:8080/"
        },
        "outputId": "7aacb0c8-afb1-4e37-ae50-7c052ca80d72"
      },
      "source": [
        "!apt-get install -y -qq software-properties-common python-software-properties module-init-tools\n",
        "!add-apt-repository -y ppa:alessandro-strada/ppa 2>&1 > /dev/null\n",
        "!apt-get update -qq 2>&1 > /dev/null\n",
        "!apt-get -y install -qq google-drive-ocamlfuse fuse\n",
        "from google.colab import auth\n",
        "auth.authenticate_user()\n",
        "from oauth2client.client import GoogleCredentials\n",
        "creds = GoogleCredentials.get_application_default()\n",
        "import getpass\n",
        "!google-drive-ocamlfuse -headless -id={creds.client_id} -secret={creds.client_secret} < /dev/null 2>&1 | grep URL\n",
        "vcode = getpass.getpass()\n",
        "!echo {vcode} | google-drive-ocamlfuse -headless -id={creds.client_id} -secret={creds.client_secret}"
      ],
      "execution_count": null,
      "outputs": [
        {
          "output_type": "stream",
          "text": [
            "E: Package 'python-software-properties' has no installation candidate\n",
            "Selecting previously unselected package google-drive-ocamlfuse.\n",
            "(Reading database ... 160837 files and directories currently installed.)\n",
            "Preparing to unpack .../google-drive-ocamlfuse_0.7.26-0ubuntu1~ubuntu18.04.1_amd64.deb ...\n",
            "Unpacking google-drive-ocamlfuse (0.7.26-0ubuntu1~ubuntu18.04.1) ...\n",
            "Setting up google-drive-ocamlfuse (0.7.26-0ubuntu1~ubuntu18.04.1) ...\n",
            "Processing triggers for man-db (2.8.3-2ubuntu0.1) ...\n",
            "Please, open the following URL in a web browser: https://accounts.google.com/o/oauth2/auth?client_id=32555940559.apps.googleusercontent.com&redirect_uri=urn%3Aietf%3Awg%3Aoauth%3A2.0%3Aoob&scope=https%3A%2F%2Fwww.googleapis.com%2Fauth%2Fdrive&response_type=code&access_type=offline&approval_prompt=force\n",
            "··········\n",
            "Please, open the following URL in a web browser: https://accounts.google.com/o/oauth2/auth?client_id=32555940559.apps.googleusercontent.com&redirect_uri=urn%3Aietf%3Awg%3Aoauth%3A2.0%3Aoob&scope=https%3A%2F%2Fwww.googleapis.com%2Fauth%2Fdrive&response_type=code&access_type=offline&approval_prompt=force\n",
            "Please enter the verification code: Access token retrieved correctly.\n"
          ],
          "name": "stdout"
        }
      ]
    },
    {
      "cell_type": "code",
      "metadata": {
        "id": "Gh8iuksBR2-h",
        "colab": {
          "base_uri": "https://localhost:8080/"
        },
        "outputId": "92708977-ae50-4479-8d8d-f7c2894a325a"
      },
      "source": [
        "!mkdir -p drive\n",
        "!google-drive-ocamlfuse drive\n",
        "!ls"
      ],
      "execution_count": null,
      "outputs": [
        {
          "output_type": "stream",
          "text": [
            "adc.json  drive  sample_data\n"
          ],
          "name": "stdout"
        }
      ]
    },
    {
      "cell_type": "markdown",
      "metadata": {
        "id": "4JLlQaERRlpm"
      },
      "source": [
        "# K En Yakın Komşu"
      ]
    },
    {
      "cell_type": "markdown",
      "metadata": {
        "id": "riyBhQzlR9MT"
      },
      "source": [
        "## Kütüphane"
      ]
    },
    {
      "cell_type": "code",
      "metadata": {
        "id": "QfKp9ou6R_2f"
      },
      "source": [
        "import numpy as np\n",
        "import pandas as pd\n",
        "from sklearn.model_selection import train_test_split, GridSearchCV\n",
        "from sklearn.metrics import mean_squared_error, r2_score\n",
        "import matplotlib.pyplot as plt\n",
        "from sklearn.preprocessing import scale, StandardScaler #Standartlaştırma işlemleri için\n",
        "from sklearn import model_selection\n",
        "from sklearn.linear_model import LinearRegression\n",
        "from sklearn.tree import DecisionTreeRegressor\n",
        "from sklearn.neighbors import KNeighborsRegressor\n",
        "from sklearn.neural_network import MLPRegressor\n",
        "from sklearn.ensemble import RandomForestRegressor, GradientBoostingRegressor\n",
        "from sklearn import neighbors\n",
        "from sklearn.svm import SVR"
      ],
      "execution_count": null,
      "outputs": []
    },
    {
      "cell_type": "code",
      "metadata": {
        "id": "Gh8RZSTgUox7"
      },
      "source": [
        "# uyarı engelemek için\n",
        "from warnings import filterwarnings\n",
        "filterwarnings('ignore')"
      ],
      "execution_count": null,
      "outputs": []
    },
    {
      "cell_type": "markdown",
      "metadata": {
        "id": "s2oTCznDUzuB"
      },
      "source": [
        "## KNN"
      ]
    },
    {
      "cell_type": "code",
      "metadata": {
        "id": "cBbsx4PrU31p"
      },
      "source": [
        "df = pd.read_csv('/content/drive/Colab Notebooks/MakineOgrenmesi/Hitters.csv')\n",
        "df = df.dropna()\n",
        "dms = pd.get_dummies(df[['League', 'Division', 'NewLeague']])\n",
        "y = df[\"Salary\"]\n",
        "X_ = df.drop(['Salary', 'League', 'Division', 'NewLeague'], axis=1).astype('float64')\n",
        "X = pd.concat([X_, dms[['League_N', 'Division_W', 'NewLeague_N']]], axis=1)\n",
        "X_train, X_test, y_train, y_test = train_test_split(X, y, test_size=0.25, random_state=42)"
      ],
      "execution_count": null,
      "outputs": []
    },
    {
      "cell_type": "markdown",
      "metadata": {
        "id": "svji57uUVkLO"
      },
      "source": [
        "## Modelleme Ve Tahmin"
      ]
    },
    {
      "cell_type": "code",
      "metadata": {
        "id": "2VUN8ZsoVmcS",
        "colab": {
          "base_uri": "https://localhost:8080/"
        },
        "outputId": "4bfa9838-989d-4767-cf51-09ae21932202"
      },
      "source": [
        "knn_model = KNeighborsRegressor().fit(X_train, y_train)\n",
        "knn_model"
      ],
      "execution_count": null,
      "outputs": [
        {
          "output_type": "execute_result",
          "data": {
            "text/plain": [
              "KNeighborsRegressor(algorithm='auto', leaf_size=30, metric='minkowski',\n",
              "                    metric_params=None, n_jobs=None, n_neighbors=5, p=2,\n",
              "                    weights='uniform')"
            ]
          },
          "metadata": {
            "tags": []
          },
          "execution_count": 6
        }
      ]
    },
    {
      "cell_type": "code",
      "metadata": {
        "id": "Sav77aQsV_00",
        "colab": {
          "base_uri": "https://localhost:8080/"
        },
        "outputId": "bbc6569b-5e8a-41ca-a5c0-8afd2a7c4565"
      },
      "source": [
        "knn_model.predict(X_test)[0:5]"
      ],
      "execution_count": null,
      "outputs": [
        {
          "output_type": "execute_result",
          "data": {
            "text/plain": [
              "array([ 510.3334,  808.3334,  772.5   ,  125.5   , 1005.    ])"
            ]
          },
          "metadata": {
            "tags": []
          },
          "execution_count": 7
        }
      ]
    },
    {
      "cell_type": "code",
      "metadata": {
        "colab": {
          "base_uri": "https://localhost:8080/"
        },
        "id": "_StQOCpsWSk0",
        "outputId": "7bbbaa2a-0199-4b6c-9bb7-8d0f3e5d2fd5"
      },
      "source": [
        "# Tahmin edilen modelleri kayıt edelim değişkene\n",
        "y_pred = knn_model.predict(X_test)\n",
        "np.sqrt(mean_squared_error(y_test, y_pred))"
      ],
      "execution_count": null,
      "outputs": [
        {
          "output_type": "execute_result",
          "data": {
            "text/plain": [
              "426.6570764525201"
            ]
          },
          "metadata": {
            "tags": []
          },
          "execution_count": 8
        }
      ]
    },
    {
      "cell_type": "markdown",
      "metadata": {
        "id": "TNhHU70aHjA5"
      },
      "source": [
        "## Model Tuning"
      ]
    },
    {
      "cell_type": "code",
      "metadata": {
        "id": "hEtGoI2THc6n",
        "colab": {
          "base_uri": "https://localhost:8080/"
        },
        "outputId": "c69f1c9d-7bcf-442f-9ebf-47fe55bf6694"
      },
      "source": [
        "RMSE = []\n",
        "\n",
        "for k in range(10):\n",
        "    k = k+1\n",
        "    knn_model = KNeighborsRegressor(n_neighbors= k).fit(X_train, y_train)\n",
        "    y_pred = knn_model.predict(X_test)\n",
        "    rmse = np.sqrt(mean_squared_error(y_test, y_pred))\n",
        "    RMSE.append(rmse)\n",
        "    print(\"k=\", k, \"için RMSE değeri:\", rmse)"
      ],
      "execution_count": null,
      "outputs": [
        {
          "output_type": "stream",
          "text": [
            "k= 1 için RMSE değeri: 455.03925390751965\n",
            "k= 2 için RMSE değeri: 415.99629571490965\n",
            "k= 3 için RMSE değeri: 420.6765370082348\n",
            "k= 4 için RMSE değeri: 428.8564674588792\n",
            "k= 5 için RMSE değeri: 426.6570764525201\n",
            "k= 6 için RMSE değeri: 423.5071669008732\n",
            "k= 7 için RMSE değeri: 414.9361222421057\n",
            "k= 8 için RMSE değeri: 413.7094731463598\n",
            "k= 9 için RMSE değeri: 417.84419990871265\n",
            "k= 10 için RMSE değeri: 421.6252180741266\n"
          ],
          "name": "stdout"
        }
      ]
    },
    {
      "cell_type": "code",
      "metadata": {
        "id": "PeCjK2yKJI2f"
      },
      "source": [
        "# GridSearchCV Grid ızgara demek\n",
        "# Belirlemeye çalıştığımız hiper paremetrelerin değerlerini belirlemek içinkullanılan fonksiyondur\n",
        "knn_params = {\"n_neighbors\": np.arange(1,30,1)}"
      ],
      "execution_count": null,
      "outputs": []
    },
    {
      "cell_type": "code",
      "metadata": {
        "id": "tIplJX9nNOXj"
      },
      "source": [
        "knn = KNeighborsRegressor()\n",
        "knn_cv_model = GridSearchCV(knn, knn_params, cv = 10).fit(X_train, y_train)"
      ],
      "execution_count": null,
      "outputs": []
    },
    {
      "cell_type": "code",
      "metadata": {
        "colab": {
          "base_uri": "https://localhost:8080/"
        },
        "id": "waJuZ5lsNlfh",
        "outputId": "b75da774-1333-479f-f598-ae549ca9ac34"
      },
      "source": [
        "knn_cv_model.best_params_ # yukarıda for ile yaptığımızı burada daha hızlı bir şekilde yaptık"
      ],
      "execution_count": null,
      "outputs": [
        {
          "output_type": "execute_result",
          "data": {
            "text/plain": [
              "{'n_neighbors': 8}"
            ]
          },
          "metadata": {
            "tags": []
          },
          "execution_count": 12
        }
      ]
    },
    {
      "cell_type": "code",
      "metadata": {
        "colab": {
          "base_uri": "https://localhost:8080/"
        },
        "id": "TdI65k4GN0VU",
        "outputId": "d50fb566-e070-462c-aa44-cb89ce7a6a0e"
      },
      "source": [
        "# Final model\n",
        "knn_tuned = KNeighborsRegressor(n_neighbors = knn_cv_model.best_params_[\"n_neighbors\"]).fit(X_train, y_train)\n",
        "knn_tuned"
      ],
      "execution_count": null,
      "outputs": [
        {
          "output_type": "execute_result",
          "data": {
            "text/plain": [
              "KNeighborsRegressor(algorithm='auto', leaf_size=30, metric='minkowski',\n",
              "                    metric_params=None, n_jobs=None, n_neighbors=8, p=2,\n",
              "                    weights='uniform')"
            ]
          },
          "metadata": {
            "tags": []
          },
          "execution_count": 13
        }
      ]
    },
    {
      "cell_type": "code",
      "metadata": {
        "id": "pesn6k0YOHAd"
      },
      "source": [
        "# Test hatasını bulalım\n",
        "y_pred= knn_tuned.predict(X_test)\n"
      ],
      "execution_count": null,
      "outputs": []
    },
    {
      "cell_type": "code",
      "metadata": {
        "colab": {
          "base_uri": "https://localhost:8080/"
        },
        "id": "mKV_Y6JoRieg",
        "outputId": "95f311f9-5fd7-4b7f-ddd1-bd00c7437793"
      },
      "source": [
        "np.sqrt(mean_squared_error(y_test, y_pred))"
      ],
      "execution_count": null,
      "outputs": [
        {
          "output_type": "execute_result",
          "data": {
            "text/plain": [
              "413.7094731463598"
            ]
          },
          "metadata": {
            "tags": []
          },
          "execution_count": 15
        }
      ]
    },
    {
      "cell_type": "markdown",
      "metadata": {
        "id": "iHAjr-U6YU8U"
      },
      "source": [
        "# Destek Vektör Regresyon"
      ]
    },
    {
      "cell_type": "markdown",
      "metadata": {
        "id": "stolr8Rffv6v"
      },
      "source": [
        "## Kütüphane"
      ]
    },
    {
      "cell_type": "code",
      "metadata": {
        "id": "TUsxw2Gsfv64"
      },
      "source": [
        "import numpy as np\n",
        "import pandas as pd\n",
        "from sklearn.model_selection import train_test_split\n",
        "from sklearn.model_selection import GridSearchCV\n",
        "from sklearn.metrics import mean_squared_error, r2_score\n",
        "import matplotlib.pyplot as plt\n",
        "from sklearn.preprocessing import scale, StandardScaler #Standartlaştırma işlemleri için\n",
        "from sklearn import model_selection\n",
        "from sklearn.linear_model import LinearRegression\n",
        "from sklearn.tree import DecisionTreeRegressor\n",
        "from sklearn.neighbors import KNeighborsRegressor\n",
        "from sklearn.neural_network import MLPRegressor\n",
        "from sklearn.ensemble import RandomForestRegressor, GradientBoostingRegressor\n",
        "from sklearn import neighbors\n",
        "from sklearn.svm import SVR"
      ],
      "execution_count": null,
      "outputs": []
    },
    {
      "cell_type": "code",
      "metadata": {
        "id": "Gx5TV4S3fv68"
      },
      "source": [
        "# uyarı engelemek için\n",
        "from warnings import filterwarnings\n",
        "filterwarnings('ignore')"
      ],
      "execution_count": null,
      "outputs": []
    },
    {
      "cell_type": "markdown",
      "metadata": {
        "id": "vIOKdgrkf2Up"
      },
      "source": [
        "## Veri Seti yükleme"
      ]
    },
    {
      "cell_type": "code",
      "metadata": {
        "id": "-nfPb84_f51B",
        "colab": {
          "base_uri": "https://localhost:8080/",
          "height": 246
        },
        "outputId": "edcfa0de-e87f-4059-9b8a-14f668106c34"
      },
      "source": [
        "df = pd.read_csv('/content/drive/Colab Notebooks/MakineOgrenmesi/Hitters.csv')\n",
        "df = df.dropna()\n",
        "dms = pd.get_dummies(df[['League', 'Division', 'NewLeague']])\n",
        "y = df[\"Salary\"]\n",
        "X_ = df.drop(['Salary', 'League', 'Division', 'NewLeague'], axis=1).astype('float64')\n",
        "X = pd.concat([X_, dms[['League_N', 'Division_W', 'NewLeague_N']]], axis=1)\n",
        "X_train, X_test, y_train, y_test = train_test_split(X, y, test_size=0.25, random_state=42)"
      ],
      "execution_count": null,
      "outputs": [
        {
          "output_type": "error",
          "ename": "NameError",
          "evalue": "ignored",
          "traceback": [
            "\u001b[0;31m---------------------------------------------------------------------------\u001b[0m",
            "\u001b[0;31mNameError\u001b[0m                                 Traceback (most recent call last)",
            "\u001b[0;32m<ipython-input-3-6745efc3a57e>\u001b[0m in \u001b[0;36m<module>\u001b[0;34m()\u001b[0m\n\u001b[0;32m----> 1\u001b[0;31m \u001b[0mdf\u001b[0m \u001b[0;34m=\u001b[0m \u001b[0mpd\u001b[0m\u001b[0;34m.\u001b[0m\u001b[0mread_csv\u001b[0m\u001b[0;34m(\u001b[0m\u001b[0;34m'/content/drive/Colab Notebooks/MakineOgrenmesi/Hitters.csv'\u001b[0m\u001b[0;34m)\u001b[0m\u001b[0;34m\u001b[0m\u001b[0;34m\u001b[0m\u001b[0m\n\u001b[0m\u001b[1;32m      2\u001b[0m \u001b[0mdf\u001b[0m \u001b[0;34m=\u001b[0m \u001b[0mdf\u001b[0m\u001b[0;34m.\u001b[0m\u001b[0mdropna\u001b[0m\u001b[0;34m(\u001b[0m\u001b[0;34m)\u001b[0m\u001b[0;34m\u001b[0m\u001b[0;34m\u001b[0m\u001b[0m\n\u001b[1;32m      3\u001b[0m \u001b[0mdms\u001b[0m \u001b[0;34m=\u001b[0m \u001b[0mpd\u001b[0m\u001b[0;34m.\u001b[0m\u001b[0mget_dummies\u001b[0m\u001b[0;34m(\u001b[0m\u001b[0mdf\u001b[0m\u001b[0;34m[\u001b[0m\u001b[0;34m[\u001b[0m\u001b[0;34m'League'\u001b[0m\u001b[0;34m,\u001b[0m \u001b[0;34m'Division'\u001b[0m\u001b[0;34m,\u001b[0m \u001b[0;34m'NewLeague'\u001b[0m\u001b[0;34m]\u001b[0m\u001b[0;34m]\u001b[0m\u001b[0;34m)\u001b[0m\u001b[0;34m\u001b[0m\u001b[0;34m\u001b[0m\u001b[0m\n\u001b[1;32m      4\u001b[0m \u001b[0my\u001b[0m \u001b[0;34m=\u001b[0m \u001b[0mdf\u001b[0m\u001b[0;34m[\u001b[0m\u001b[0;34m\"Salary\"\u001b[0m\u001b[0;34m]\u001b[0m\u001b[0;34m\u001b[0m\u001b[0;34m\u001b[0m\u001b[0m\n\u001b[1;32m      5\u001b[0m \u001b[0mX_\u001b[0m \u001b[0;34m=\u001b[0m \u001b[0mdf\u001b[0m\u001b[0;34m.\u001b[0m\u001b[0mdrop\u001b[0m\u001b[0;34m(\u001b[0m\u001b[0;34m[\u001b[0m\u001b[0;34m'Salary'\u001b[0m\u001b[0;34m,\u001b[0m \u001b[0;34m'League'\u001b[0m\u001b[0;34m,\u001b[0m \u001b[0;34m'Division'\u001b[0m\u001b[0;34m,\u001b[0m \u001b[0;34m'NewLeague'\u001b[0m\u001b[0;34m]\u001b[0m\u001b[0;34m,\u001b[0m \u001b[0maxis\u001b[0m\u001b[0;34m=\u001b[0m\u001b[0;36m1\u001b[0m\u001b[0;34m)\u001b[0m\u001b[0;34m.\u001b[0m\u001b[0mastype\u001b[0m\u001b[0;34m(\u001b[0m\u001b[0;34m'float64'\u001b[0m\u001b[0;34m)\u001b[0m\u001b[0;34m\u001b[0m\u001b[0;34m\u001b[0m\u001b[0m\n",
            "\u001b[0;31mNameError\u001b[0m: name 'pd' is not defined"
          ]
        }
      ]
    },
    {
      "cell_type": "markdown",
      "metadata": {
        "id": "kb_dXZcOf8Hk"
      },
      "source": [
        "## Model ve Tahmin"
      ]
    },
    {
      "cell_type": "code",
      "metadata": {
        "colab": {
          "base_uri": "https://localhost:8080/"
        },
        "id": "7tmYPd4xYZfo",
        "outputId": "99d978bb-3018-44a4-fd77-45cbb4e8868e"
      },
      "source": [
        "svr_model = SVR(\"linear\").fit(X_train, y_train) # linear kernel demek örenek olarak rbf de var\n",
        "svr_model"
      ],
      "execution_count": null,
      "outputs": [
        {
          "output_type": "execute_result",
          "data": {
            "text/plain": [
              "SVR(C=1.0, cache_size=200, coef0=0.0, degree=3, epsilon=0.1, gamma='scale',\n",
              "    kernel='linear', max_iter=-1, shrinking=True, tol=0.001, verbose=False)"
            ]
          },
          "metadata": {
            "tags": []
          },
          "execution_count": 19
        }
      ]
    },
    {
      "cell_type": "code",
      "metadata": {
        "colab": {
          "base_uri": "https://localhost:8080/"
        },
        "id": "hd6fWPsPgR4g",
        "outputId": "082c540b-ff60-4027-ae1c-90c9883d9a1c"
      },
      "source": [
        "svr_model.predict(X_train)[0:5]"
      ],
      "execution_count": null,
      "outputs": [
        {
          "output_type": "execute_result",
          "data": {
            "text/plain": [
              "array([219.32622169, 702.4303869 , 623.2055964 , 153.77538476,\n",
              "       463.15190834])"
            ]
          },
          "metadata": {
            "tags": []
          },
          "execution_count": 20
        }
      ]
    },
    {
      "cell_type": "code",
      "metadata": {
        "colab": {
          "base_uri": "https://localhost:8080/"
        },
        "id": "UmCC4T8ygZG9",
        "outputId": "3062c07d-30fc-4cb4-f055-85c7a87148f9"
      },
      "source": [
        "svr_model.predict(X_test)[0:5]"
      ],
      "execution_count": null,
      "outputs": [
        {
          "output_type": "execute_result",
          "data": {
            "text/plain": [
              "array([679.14754685, 633.72883069, 925.68640849, 270.28463621,\n",
              "       530.26659184])"
            ]
          },
          "metadata": {
            "tags": []
          },
          "execution_count": 21
        }
      ]
    },
    {
      "cell_type": "code",
      "metadata": {
        "colab": {
          "base_uri": "https://localhost:8080/"
        },
        "id": "CvqbSmmwge3k",
        "outputId": "706dff8b-feaa-494c-a0d2-715c22545304"
      },
      "source": [
        "svr_model.intercept_"
      ],
      "execution_count": null,
      "outputs": [
        {
          "output_type": "execute_result",
          "data": {
            "text/plain": [
              "array([-80.15196151])"
            ]
          },
          "metadata": {
            "tags": []
          },
          "execution_count": 22
        }
      ]
    },
    {
      "cell_type": "code",
      "metadata": {
        "colab": {
          "base_uri": "https://localhost:8080/"
        },
        "id": "UoebnoqRgjsS",
        "outputId": "2994e017-0ded-477d-af18-34b56cf03f9c"
      },
      "source": [
        "svr_model.coef_"
      ],
      "execution_count": null,
      "outputs": [
        {
          "output_type": "execute_result",
          "data": {
            "text/plain": [
              "array([[ -1.21839037,   6.09602969,  -3.67574533,   0.14217075,\n",
              "          0.51435919,   1.28388986,  12.55922537,  -0.08693755,\n",
              "          0.46597184,   2.98259944,   0.52944523,  -0.79820799,\n",
              "         -0.16015534,   0.30872794,   0.28842348,  -1.79560067,\n",
              "          6.41868985, -10.74313783,   1.33374317]])"
            ]
          },
          "metadata": {
            "tags": []
          },
          "execution_count": 23
        }
      ]
    },
    {
      "cell_type": "code",
      "metadata": {
        "colab": {
          "base_uri": "https://localhost:8080/"
        },
        "id": "G9aOgpewgoRK",
        "outputId": "8cd2eb60-53a4-4037-b744-e259ce46c0b1"
      },
      "source": [
        "# Test hatası\n",
        "y_pred = svr_model.predict(X_test)\n",
        "np.sqrt(mean_squared_error(y_test,y_pred))"
      ],
      "execution_count": null,
      "outputs": [
        {
          "output_type": "execute_result",
          "data": {
            "text/plain": [
              "370.04084185624924"
            ]
          },
          "metadata": {
            "tags": []
          },
          "execution_count": 24
        }
      ]
    },
    {
      "cell_type": "markdown",
      "metadata": {
        "id": "3gmYsZ3MhflK"
      },
      "source": [
        "## model tuning"
      ]
    },
    {
      "cell_type": "code",
      "metadata": {
        "colab": {
          "base_uri": "https://localhost:8080/"
        },
        "id": "7Y_bUp5khhR3",
        "outputId": "cf53d65d-3e43-4d6c-eb1c-3a7796aac133"
      },
      "source": [
        "svr_model = SVR(\"linear\")\n",
        "svr_model"
      ],
      "execution_count": null,
      "outputs": [
        {
          "output_type": "execute_result",
          "data": {
            "text/plain": [
              "SVR(C=1.0, cache_size=200, coef0=0.0, degree=3, epsilon=0.1, gamma='scale',\n",
              "    kernel='linear', max_iter=-1, shrinking=True, tol=0.001, verbose=False)"
            ]
          },
          "metadata": {
            "tags": []
          },
          "execution_count": 25
        }
      ]
    },
    {
      "cell_type": "code",
      "metadata": {
        "id": "mVTuCCf_iSpV"
      },
      "source": [
        "#aranacak parametreler\n",
        "svr_params = {\"C\": [0.1,0.5,1,3]}"
      ],
      "execution_count": null,
      "outputs": []
    },
    {
      "cell_type": "code",
      "metadata": {
        "id": "yK_0HXdSip1_"
      },
      "source": [
        "# K katlı çarpaz doğrulama ile deneme işlemi\n",
        "svr_cv_model = GridSearchCV(svr_model, svr_params, cv = 5).fit(X_train, y_train)\n",
        "# svr_cv_model = GridSearchCV(svr_model, svr_params, cv = 5, verbose =2, n_jobs = -1).fit(X_train, y_train)\n",
        "# verbose=2; bize raporlama yapar, n_jbos=-1 ise bizim işlemciği maksimumda çalıştırır. "
      ],
      "execution_count": null,
      "outputs": []
    },
    {
      "cell_type": "code",
      "metadata": {
        "colab": {
          "base_uri": "https://localhost:8080/"
        },
        "id": "EBWcC5DGmNt6",
        "outputId": "61b27c96-7ef3-4614-a54e-38df359c997e"
      },
      "source": [
        "svr_cv_model.best_params_ #C nin en iyi olduğu yerde değeri bulamak için "
      ],
      "execution_count": null,
      "outputs": [
        {
          "output_type": "execute_result",
          "data": {
            "text/plain": [
              "{'C': 0.5}"
            ]
          },
          "metadata": {
            "tags": []
          },
          "execution_count": 28
        }
      ]
    },
    {
      "cell_type": "code",
      "metadata": {
        "id": "qNiyMRB_nZX-"
      },
      "source": [
        "svr_tuned = SVR(\"linear\", C= 0.5).fit(X_train, y_train)"
      ],
      "execution_count": null,
      "outputs": []
    },
    {
      "cell_type": "code",
      "metadata": {
        "colab": {
          "base_uri": "https://localhost:8080/"
        },
        "id": "z8EK1bTEnlw9",
        "outputId": "42045b74-cd07-496a-d6a7-fb4d20a59c95"
      },
      "source": [
        "y_pred = svr_tuned.predict(X_test)\n",
        "np.sqrt(mean_squared_error(y_test, y_pred))"
      ],
      "execution_count": null,
      "outputs": [
        {
          "output_type": "execute_result",
          "data": {
            "text/plain": [
              "367.9874739022889"
            ]
          },
          "metadata": {
            "tags": []
          },
          "execution_count": 30
        }
      ]
    },
    {
      "cell_type": "markdown",
      "metadata": {
        "id": "wvxdVyDza9Zd"
      },
      "source": [
        "# Yapay sinir ağları"
      ]
    },
    {
      "cell_type": "markdown",
      "metadata": {
        "id": "Yzxi0jxRbERl"
      },
      "source": [
        "## Kütüphane"
      ]
    },
    {
      "cell_type": "code",
      "metadata": {
        "id": "kasgcFcAbERm"
      },
      "source": [
        "import numpy as np\n",
        "import pandas as pd\n",
        "from sklearn.model_selection import train_test_split\n",
        "from sklearn.model_selection import GridSearchCV\n",
        "from sklearn.metrics import mean_squared_error, r2_score\n",
        "import matplotlib.pyplot as plt\n",
        "from sklearn.preprocessing import scale, StandardScaler #Standartlaştırma işlemleri için\n",
        "from sklearn import model_selection\n",
        "from sklearn.linear_model import LinearRegression\n",
        "from sklearn.tree import DecisionTreeRegressor\n",
        "from sklearn.neighbors import KNeighborsRegressor\n",
        "from sklearn.neural_network import MLPRegressor\n",
        "from sklearn.ensemble import RandomForestRegressor, GradientBoostingRegressor\n",
        "from sklearn import neighbors\n",
        "from sklearn.svm import SVR"
      ],
      "execution_count": null,
      "outputs": []
    },
    {
      "cell_type": "code",
      "metadata": {
        "id": "CNhJ2l9nbERo"
      },
      "source": [
        "# uyarı engelemek için\n",
        "from warnings import filterwarnings\n",
        "filterwarnings('ignore')"
      ],
      "execution_count": null,
      "outputs": []
    },
    {
      "cell_type": "markdown",
      "metadata": {
        "id": "93DnmmAtbI8h"
      },
      "source": [
        "## Veri Seti yükleme"
      ]
    },
    {
      "cell_type": "code",
      "metadata": {
        "id": "CoBqH7L_bI8j"
      },
      "source": [
        "df = pd.read_csv('/content/drive/Colab Notebooks/MakineOgrenmesi/Hitters.csv')\n",
        "df = df.dropna()\n",
        "dms = pd.get_dummies(df[['League', 'Division', 'NewLeague']])\n",
        "y = df[\"Salary\"]\n",
        "X_ = df.drop(['Salary', 'League', 'Division', 'NewLeague'], axis=1).astype('float64')\n",
        "X = pd.concat([X_, dms[['League_N', 'Division_W', 'NewLeague_N']]], axis=1)\n",
        "X_train, X_test, y_train, y_test = train_test_split(X, y, test_size=0.25, random_state=42)"
      ],
      "execution_count": null,
      "outputs": []
    },
    {
      "cell_type": "markdown",
      "metadata": {
        "id": "noLWnzDwbNV6"
      },
      "source": [
        "## Model ve Tahmin"
      ]
    },
    {
      "cell_type": "code",
      "metadata": {
        "id": "SC6eyLBSbQRG"
      },
      "source": [
        "scaler = StandardScaler()"
      ],
      "execution_count": null,
      "outputs": []
    },
    {
      "cell_type": "code",
      "metadata": {
        "id": "9QDEBnPOcC3N"
      },
      "source": [
        "scaler.fit(X_train)\n",
        "X_train_scaled = scaler.transform(X_train) # X eğitim seti ölçeklendirilmiştir.\n",
        "X_test_scaled = scaler.transform(X_test)"
      ],
      "execution_count": null,
      "outputs": []
    },
    {
      "cell_type": "code",
      "metadata": {
        "id": "MfdHE4kmcY5C",
        "colab": {
          "base_uri": "https://localhost:8080/"
        },
        "outputId": "4e2061e0-14bf-48ba-e627-482803b3831b"
      },
      "source": [
        "#mlp= çok katmanlı algılayıcı\n",
        "mlp_model = MLPRegressor().fit(X_train_scaled, y_train)\n",
        "mlp_model"
      ],
      "execution_count": null,
      "outputs": [
        {
          "output_type": "execute_result",
          "data": {
            "text/plain": [
              "MLPRegressor(activation='relu', alpha=0.0001, batch_size='auto', beta_1=0.9,\n",
              "             beta_2=0.999, early_stopping=False, epsilon=1e-08,\n",
              "             hidden_layer_sizes=(100,), learning_rate='constant',\n",
              "             learning_rate_init=0.001, max_fun=15000, max_iter=200,\n",
              "             momentum=0.9, n_iter_no_change=10, nesterovs_momentum=True,\n",
              "             power_t=0.5, random_state=None, shuffle=True, solver='adam',\n",
              "             tol=0.0001, validation_fraction=0.1, verbose=False,\n",
              "             warm_start=False)"
            ]
          },
          "metadata": {
            "tags": []
          },
          "execution_count": 36
        }
      ]
    },
    {
      "cell_type": "code",
      "metadata": {
        "colab": {
          "base_uri": "https://localhost:8080/"
        },
        "id": "pvlA8IYmcsgz",
        "outputId": "01af6c08-77b1-4253-d313-c4978792132b"
      },
      "source": [
        "# Hiç bir bilgimiz olmadan model tahmin etme işlemi yapalım\n",
        "mlp_model.predict(X_test_scaled)[0:5]"
      ],
      "execution_count": null,
      "outputs": [
        {
          "output_type": "execute_result",
          "data": {
            "text/plain": [
              "array([22.69516654, 46.81605878, 73.22358216, 16.02380724, 18.79984622])"
            ]
          },
          "metadata": {
            "tags": []
          },
          "execution_count": 37
        }
      ]
    },
    {
      "cell_type": "code",
      "metadata": {
        "colab": {
          "base_uri": "https://localhost:8080/"
        },
        "id": "yyU6K56wdBo2",
        "outputId": "35f3d829-da0b-4686-a7f4-48aeb2fd69eb"
      },
      "source": [
        "y_pred = mlp_model.predict(X_test_scaled)\n",
        "np.sqrt(mean_squared_error(y_test, y_pred))"
      ],
      "execution_count": null,
      "outputs": [
        {
          "output_type": "execute_result",
          "data": {
            "text/plain": [
              "658.2816316993706"
            ]
          },
          "metadata": {
            "tags": []
          },
          "execution_count": 38
        }
      ]
    },
    {
      "cell_type": "markdown",
      "metadata": {
        "id": "Swrece1edoRN"
      },
      "source": [
        "## Model Tuning"
      ]
    },
    {
      "cell_type": "code",
      "metadata": {
        "id": "WrIZH6xGd1Qs"
      },
      "source": [
        "mlp_params = {\"alpha\": [0.1, 0.01, 0.02, 0.001, 0.0001],\n",
        "              \"hidden_layer_sizes\": [(10,20), (5,5), (100,100)]}"
      ],
      "execution_count": null,
      "outputs": []
    },
    {
      "cell_type": "code",
      "metadata": {
        "colab": {
          "base_uri": "https://localhost:8080/",
          "height": 191
        },
        "id": "yBP1BS_Oe08x",
        "outputId": "145adb8a-4467-44d2-a1b6-5c6d2adb9e09"
      },
      "source": [
        "mlp_cv_model = GridSearchCV(mlp_model, mlp_params, cv = 10, verbose = 2, n_jobs= -1).fit(X_train_scaled, y_train)"
      ],
      "execution_count": null,
      "outputs": [
        {
          "output_type": "error",
          "ename": "NameError",
          "evalue": "ignored",
          "traceback": [
            "\u001b[0;31m---------------------------------------------------------------------------\u001b[0m",
            "\u001b[0;31mNameError\u001b[0m                                 Traceback (most recent call last)",
            "\u001b[0;32m<ipython-input-2-af7e68807fa1>\u001b[0m in \u001b[0;36m<module>\u001b[0;34m()\u001b[0m\n\u001b[0;32m----> 1\u001b[0;31m \u001b[0mmlp_cv_model\u001b[0m \u001b[0;34m=\u001b[0m \u001b[0mGridSearchCV\u001b[0m\u001b[0;34m(\u001b[0m\u001b[0mmlp_model\u001b[0m\u001b[0;34m,\u001b[0m \u001b[0mmlp_params\u001b[0m\u001b[0;34m,\u001b[0m \u001b[0mcv\u001b[0m \u001b[0;34m=\u001b[0m \u001b[0;36m10\u001b[0m\u001b[0;34m,\u001b[0m \u001b[0mverbose\u001b[0m \u001b[0;34m=\u001b[0m \u001b[0;36m2\u001b[0m\u001b[0;34m,\u001b[0m \u001b[0mn_jobs\u001b[0m\u001b[0;34m=\u001b[0m \u001b[0;34m-\u001b[0m\u001b[0;36m1\u001b[0m\u001b[0;34m)\u001b[0m\u001b[0;34m.\u001b[0m\u001b[0mfit\u001b[0m\u001b[0;34m(\u001b[0m\u001b[0mX_train_scaled\u001b[0m\u001b[0;34m,\u001b[0m \u001b[0my_train\u001b[0m\u001b[0;34m)\u001b[0m\u001b[0;34m\u001b[0m\u001b[0;34m\u001b[0m\u001b[0m\n\u001b[0m",
            "\u001b[0;31mNameError\u001b[0m: name 'GridSearchCV' is not defined"
          ]
        }
      ]
    },
    {
      "cell_type": "code",
      "metadata": {
        "id": "4VspPzmVfSEN"
      },
      "source": [
        "# en iyi parametre değerlerini bulma\n",
        "mlp_cv_model.best_params_"
      ],
      "execution_count": null,
      "outputs": []
    },
    {
      "cell_type": "code",
      "metadata": {
        "id": "hHTnsvT-fl4i"
      },
      "source": [
        "#Fİnal model\n",
        "mlp_tuned = MLPRegressor(alpha= 0.0001, hidden_layer_sizes= (100,100)).fit(X_train_scaled, y_train)"
      ],
      "execution_count": null,
      "outputs": []
    },
    {
      "cell_type": "code",
      "metadata": {
        "id": "zjaGritZf28b"
      },
      "source": [
        "y_pred =mlp_tuned.predict(X_test_scaled)\n",
        "np.sqrt(mean_squared_error(y_test, y_pred))"
      ],
      "execution_count": null,
      "outputs": []
    },
    {
      "cell_type": "markdown",
      "metadata": {
        "id": "kCuPx2Ehtbxc"
      },
      "source": [
        "# CART Classification and Regression Tree"
      ]
    },
    {
      "cell_type": "markdown",
      "metadata": {
        "id": "BOy-YYXrtmgr"
      },
      "source": [
        "## Kütüphane"
      ]
    },
    {
      "cell_type": "code",
      "metadata": {
        "id": "g3hO55Prtmgu"
      },
      "source": [
        "import numpy as np\n",
        "import pandas as pd\n",
        "from sklearn.model_selection import train_test_split\n",
        "from sklearn.model_selection import GridSearchCV\n",
        "from sklearn.metrics import mean_squared_error, r2_score\n",
        "import matplotlib.pyplot as plt\n",
        "from sklearn.preprocessing import scale, StandardScaler #Standartlaştırma işlemleri için\n",
        "from sklearn import model_selection\n",
        "from sklearn.linear_model import LinearRegression\n",
        "from sklearn.tree import DecisionTreeRegressor\n",
        "from sklearn.neighbors import KNeighborsRegressor\n",
        "from sklearn.neural_network import MLPRegressor\n",
        "from sklearn.ensemble import RandomForestRegressor, GradientBoostingRegressor\n",
        "from sklearn import neighbors\n",
        "from sklearn.svm import SVR"
      ],
      "execution_count": null,
      "outputs": []
    },
    {
      "cell_type": "code",
      "metadata": {
        "id": "mcRh3wrMtmgw"
      },
      "source": [
        "# uyarı engelemek için\n",
        "from warnings import filterwarnings\n",
        "filterwarnings('ignore')"
      ],
      "execution_count": null,
      "outputs": []
    },
    {
      "cell_type": "markdown",
      "metadata": {
        "id": "3Sc1douHtpZ7"
      },
      "source": [
        "## Veri Seti yükleme"
      ]
    },
    {
      "cell_type": "code",
      "metadata": {
        "id": "PnYSiPvdtpZ8"
      },
      "source": [
        "df = pd.read_csv('/content/drive/Colab Notebooks/MakineOgrenmesi/Hitters.csv')\n",
        "df = df.dropna()\n",
        "dms = pd.get_dummies(df[['League', 'Division', 'NewLeague']])\n",
        "y = df[\"Salary\"]\n",
        "X_ = df.drop(['Salary', 'League', 'Division', 'NewLeague'], axis=1).astype('float64')\n",
        "X = pd.concat([X_, dms[['League_N', 'Division_W', 'NewLeague_N']]], axis=1)\n",
        "X_train, X_test, y_train, y_test = train_test_split(X, y, test_size=0.25, random_state=42)"
      ],
      "execution_count": null,
      "outputs": []
    },
    {
      "cell_type": "code",
      "metadata": {
        "id": "OzAGzJmBtu6O"
      },
      "source": [
        "X_train = pd.DataFrame(X_train[\"Hits\"])\n",
        "X_test = pd.DataFrame(X_test[\"Hits\"])"
      ],
      "execution_count": null,
      "outputs": []
    },
    {
      "cell_type": "markdown",
      "metadata": {
        "id": "0Wuh3B3luJsv"
      },
      "source": [
        "## Model ve Tahmin"
      ]
    },
    {
      "cell_type": "code",
      "metadata": {
        "colab": {
          "base_uri": "https://localhost:8080/"
        },
        "id": "63WRuck0uOSy",
        "outputId": "d7d1f2ee-c873-4a85-a646-83af116f892d"
      },
      "source": [
        "cart_model = DecisionTreeRegressor(max_leaf_nodes= 10) # max_leaf_models = maksimum yaprak sayısı\n",
        "cart_model.fit(X_train, y_train)"
      ],
      "execution_count": null,
      "outputs": [
        {
          "output_type": "execute_result",
          "data": {
            "text/plain": [
              "DecisionTreeRegressor(ccp_alpha=0.0, criterion='mse', max_depth=None,\n",
              "                      max_features=None, max_leaf_nodes=10,\n",
              "                      min_impurity_decrease=0.0, min_impurity_split=None,\n",
              "                      min_samples_leaf=1, min_samples_split=2,\n",
              "                      min_weight_fraction_leaf=0.0, presort='deprecated',\n",
              "                      random_state=None, splitter='best')"
            ]
          },
          "metadata": {
            "tags": []
          },
          "execution_count": 48
        }
      ]
    },
    {
      "cell_type": "code",
      "metadata": {
        "id": "vMTVdAK4ugkj",
        "colab": {
          "base_uri": "https://localhost:8080/"
        },
        "outputId": "38381cc0-4754-424b-8804-e65a2b14b229"
      },
      "source": [
        "# Grafikte Gösterim\n",
        "X_grid = np.arange(min(np.array(X_train)),max(np.array(X_train)), 0.01)\n",
        "X_grid = X_grid.reshape((len(X_grid),1))\n",
        "\n",
        "plt.scatter(X_train, y_train, color = 'red')\n",
        "\n",
        "plt.plot(X_grid, cart_model.predict(X_grid), color = 'blue')\n",
        "\n",
        "plt.title('CART REGRESYON AĞACI')\n",
        "plt.xlabel('Atış Sayısı(Hits)')\n",
        "plt.ylabel('Maaş (Salary)');"
      ],
      "execution_count": null,
      "outputs": [
        {
          "output_type": "display_data",
          "data": {
            "image/png": "[encoded data removed]",
            "text/plain": [
              "<Figure size 432x288 with 1 Axes>"
            ]
          },
          "metadata": {
            "tags": [],
            "needs_background": "light"
          }
        }
      ]
    },
    {
      "cell_type": "code",
      "metadata": {
        "colab": {
          "base_uri": "https://localhost:8080/"
        },
        "id": "hc0GIa2Tx8oN",
        "outputId": "5d75d6ea-b785-4e75-eccd-e3c67cf7e53d"
      },
      "source": [
        "# tahmin\n",
        "#tek depişkenli tahmin\n",
        "cart_model.predict(X_test)[0:5]"
      ],
      "execution_count": null,
      "outputs": [
        {
          "output_type": "execute_result",
          "data": {
            "text/plain": [
              "array([621.96792308, 958.61111111, 621.96792308, 345.20115517,\n",
              "       345.20115517])"
            ]
          },
          "metadata": {
            "tags": []
          },
          "execution_count": 50
        }
      ]
    },
    {
      "cell_type": "code",
      "metadata": {
        "colab": {
          "base_uri": "https://localhost:8080/"
        },
        "id": "76tpQIZ0yC1-",
        "outputId": "687eea6b-0e54-484a-a85e-0d0c8b6e8eae"
      },
      "source": [
        "y_pred = cart_model.predict(X_test)\n",
        "np.sqrt(mean_squared_error(y_test, y_pred))"
      ],
      "execution_count": null,
      "outputs": [
        {
          "output_type": "execute_result",
          "data": {
            "text/plain": [
              "486.34593105235456"
            ]
          },
          "metadata": {
            "tags": []
          },
          "execution_count": 51
        }
      ]
    },
    {
      "cell_type": "code",
      "metadata": {
        "id": "X0T6KdidyUho"
      },
      "source": [
        "# tüm değişkenler\n",
        "df = pd.read_csv('/content/drive/Colab Notebooks/MakineOgrenmesi/Hitters.csv')\n",
        "df = df.dropna()\n",
        "dms = pd.get_dummies(df[['League', 'Division', 'NewLeague']])\n",
        "y = df[\"Salary\"]\n",
        "X_ = df.drop(['Salary', 'League', 'Division', 'NewLeague'], axis=1).astype('float64')\n",
        "X = pd.concat([X_, dms[['League_N', 'Division_W', 'NewLeague_N']]], axis=1)\n",
        "X_train, X_test, y_train, y_test = train_test_split(X, y, test_size=0.25, random_state=42)"
      ],
      "execution_count": null,
      "outputs": []
    },
    {
      "cell_type": "code",
      "metadata": {
        "id": "mo-K961IyeuR"
      },
      "source": [
        "cart_model = DecisionTreeRegressor().fit(X_train, y_train)"
      ],
      "execution_count": null,
      "outputs": []
    },
    {
      "cell_type": "code",
      "metadata": {
        "id": "oAvzrpxayznf",
        "colab": {
          "base_uri": "https://localhost:8080/"
        },
        "outputId": "ff5c26fb-cfa0-4cdd-db2f-857cf4bf2657"
      },
      "source": [
        "y_pred = cart_model.predict(X_test)\n",
        "np.sqrt(mean_squared_error(y_test, y_pred))"
      ],
      "execution_count": null,
      "outputs": [
        {
          "output_type": "execute_result",
          "data": {
            "text/plain": [
              "534.9053378515027"
            ]
          },
          "metadata": {
            "tags": []
          },
          "execution_count": 54
        }
      ]
    },
    {
      "cell_type": "markdown",
      "metadata": {
        "id": "gtdziAIsy-c-"
      },
      "source": [
        "## Model Tuning"
      ]
    },
    {
      "cell_type": "code",
      "metadata": {
        "colab": {
          "base_uri": "https://localhost:8080/"
        },
        "id": "uhi7G2GpzBXD",
        "outputId": "c3c41939-6a22-4e3f-c1f5-f925281cbbe6"
      },
      "source": [
        "cart_model"
      ],
      "execution_count": null,
      "outputs": [
        {
          "output_type": "execute_result",
          "data": {
            "text/plain": [
              "DecisionTreeRegressor(ccp_alpha=0.0, criterion='mse', max_depth=None,\n",
              "                      max_features=None, max_leaf_nodes=None,\n",
              "                      min_impurity_decrease=0.0, min_impurity_split=None,\n",
              "                      min_samples_leaf=1, min_samples_split=2,\n",
              "                      min_weight_fraction_leaf=0.0, presort='deprecated',\n",
              "                      random_state=None, splitter='best')"
            ]
          },
          "metadata": {
            "tags": []
          },
          "execution_count": 55
        }
      ]
    },
    {
      "cell_type": "code",
      "metadata": {
        "colab": {
          "base_uri": "https://localhost:8080/"
        },
        "id": "beOOpFqWzRpB",
        "outputId": "115f5571-cdbd-4c3e-8f6e-2d756c2b2cc6"
      },
      "source": [
        "cart_model = DecisionTreeRegressor(max_depth= 3).fit(X_train, y_train) # max_depth ağacın ne kadar derinleşeceğini söyler\n",
        "y_pred = cart_model.predict(X_test)\n",
        "np.sqrt(mean_squared_error(y_test, y_pred))"
      ],
      "execution_count": null,
      "outputs": [
        {
          "output_type": "execute_result",
          "data": {
            "text/plain": [
              "391.5530522634767"
            ]
          },
          "metadata": {
            "tags": []
          },
          "execution_count": 56
        }
      ]
    },
    {
      "cell_type": "code",
      "metadata": {
        "id": "cbEltc2E0LWs"
      },
      "source": [
        "cart_params = {\"max_depth\": [2,3,4,5,10,20],\n",
        "               \"min_samples_split\": [2,10,5,30,50,10]}"
      ],
      "execution_count": null,
      "outputs": []
    },
    {
      "cell_type": "code",
      "metadata": {
        "id": "xBcbgzgm1g5C"
      },
      "source": [
        "cart_model = DecisionTreeRegressor()"
      ],
      "execution_count": null,
      "outputs": []
    },
    {
      "cell_type": "code",
      "metadata": {
        "id": "7EEWycOR1mdW"
      },
      "source": [
        "cart_cv_model = GridSearchCV(cart_model, cart_params, cv =10).fit(X_train, y_train)"
      ],
      "execution_count": null,
      "outputs": []
    },
    {
      "cell_type": "code",
      "metadata": {
        "colab": {
          "base_uri": "https://localhost:8080/"
        },
        "id": "gFC5DntW11zc",
        "outputId": "15f669e4-a13a-42fb-9f1d-728fd9c9f667"
      },
      "source": [
        "cart_cv_model.best_params_"
      ],
      "execution_count": null,
      "outputs": [
        {
          "output_type": "execute_result",
          "data": {
            "text/plain": [
              "{'max_depth': 5, 'min_samples_split': 50}"
            ]
          },
          "metadata": {
            "tags": []
          },
          "execution_count": 60
        }
      ]
    },
    {
      "cell_type": "code",
      "metadata": {
        "id": "V9WxFRkf154_"
      },
      "source": [
        "#Final model\n",
        "cart_tuned = DecisionTreeRegressor(max_depth= 4, min_samples_split= 50).fit(X_train, y_train)"
      ],
      "execution_count": null,
      "outputs": []
    },
    {
      "cell_type": "code",
      "metadata": {
        "colab": {
          "base_uri": "https://localhost:8080/"
        },
        "id": "3auhzJrj2Ixr",
        "outputId": "144f0b2b-4684-42a6-f28f-915252f7078c"
      },
      "source": [
        "y_pred = cart_tuned.predict(X_test)\n",
        "np.sqrt(mean_squared_error(y_test, y_pred))"
      ],
      "execution_count": null,
      "outputs": [
        {
          "output_type": "execute_result",
          "data": {
            "text/plain": [
              "361.0876906511434"
            ]
          },
          "metadata": {
            "tags": []
          },
          "execution_count": 62
        }
      ]
    },
    {
      "cell_type": "markdown",
      "metadata": {
        "id": "P-USV7Uhsjot"
      },
      "source": [
        "# Random Forests"
      ]
    },
    {
      "cell_type": "markdown",
      "metadata": {
        "id": "doGIwjDpswg9"
      },
      "source": [
        "## Kütüphane"
      ]
    },
    {
      "cell_type": "code",
      "metadata": {
        "id": "OFmuOC-Pswg-"
      },
      "source": [
        "import numpy as np\n",
        "import pandas as pd\n",
        "from sklearn.model_selection import train_test_split\n",
        "from sklearn.model_selection import GridSearchCV\n",
        "from sklearn.metrics import mean_squared_error, r2_score\n",
        "import matplotlib.pyplot as plt\n",
        "from sklearn.preprocessing import scale, StandardScaler #Standartlaştırma işlemleri için\n",
        "from sklearn import model_selection\n",
        "from sklearn.linear_model import LinearRegression\n",
        "from sklearn.tree import DecisionTreeRegressor\n",
        "from sklearn.neighbors import KNeighborsRegressor\n",
        "from sklearn.neural_network import MLPRegressor\n",
        "from sklearn.ensemble import RandomForestRegressor, GradientBoostingRegressor\n",
        "from sklearn import neighbors\n",
        "from sklearn.svm import SVR"
      ],
      "execution_count": null,
      "outputs": []
    },
    {
      "cell_type": "code",
      "metadata": {
        "id": "2prsM9uSswhA"
      },
      "source": [
        "# uyarı engelemek için\n",
        "from warnings import filterwarnings\n",
        "filterwarnings('ignore')"
      ],
      "execution_count": null,
      "outputs": []
    },
    {
      "cell_type": "markdown",
      "metadata": {
        "id": "S44N2bD8s2Fo"
      },
      "source": [
        "## Veri Seti yükleme"
      ]
    },
    {
      "cell_type": "code",
      "metadata": {
        "id": "sFvv71qWs2Fr"
      },
      "source": [
        "df = pd.read_csv('/content/drive/Colab Notebooks/MakineOgrenmesi/Hitters.csv')\n",
        "df = df.dropna()\n",
        "dms = pd.get_dummies(df[['League', 'Division', 'NewLeague']])\n",
        "y = df[\"Salary\"]\n",
        "X_ = df.drop(['Salary', 'League', 'Division', 'NewLeague'], axis=1).astype('float64')\n",
        "X = pd.concat([X_, dms[['League_N', 'Division_W', 'NewLeague_N']]], axis=1)\n",
        "X_train, X_test, y_train, y_test = train_test_split(X, y, test_size=0.25, random_state=42)"
      ],
      "execution_count": null,
      "outputs": []
    },
    {
      "cell_type": "markdown",
      "metadata": {
        "id": "u8PZRRNWtB4a"
      },
      "source": [
        "## Model ve Tahmin"
      ]
    },
    {
      "cell_type": "code",
      "metadata": {
        "id": "foqBCH6Hs2Ft"
      },
      "source": [
        "rf_model = RandomForestRegressor(random_state= 42).fit(X_train, y_train) # her defasında farklılık olmuşmaması için\n",
        "rf_model"
      ],
      "execution_count": null,
      "outputs": []
    },
    {
      "cell_type": "code",
      "metadata": {
        "colab": {
          "base_uri": "https://localhost:8080/"
        },
        "id": "Ty0t_ibVtt5v",
        "outputId": "949350bb-1124-4c06-ae32-a93cebcff037"
      },
      "source": [
        "y_pred = rf_model.predict(X_test)\n",
        "np.sqrt(mean_squared_error(y_test, y_pred))"
      ],
      "execution_count": null,
      "outputs": [
        {
          "output_type": "execute_result",
          "data": {
            "text/plain": [
              "344.73852779396566"
            ]
          },
          "metadata": {
            "tags": []
          },
          "execution_count": 69
        }
      ]
    },
    {
      "cell_type": "markdown",
      "metadata": {
        "id": "PZ4luK8buE-2"
      },
      "source": [
        "## Model Tuning"
      ]
    },
    {
      "cell_type": "code",
      "metadata": {
        "id": "SUY69_RnuIIs"
      },
      "source": [
        "rf_params = {\"max_depth\": [5,8,10],\n",
        "             \"max_features\": [2,5,10], \n",
        "             \"n_estimators\": [200, 500, 1000, 2000],\n",
        "             \"min_samples_split\": [2,10,80, 100]}"
      ],
      "execution_count": null,
      "outputs": []
    },
    {
      "cell_type": "code",
      "metadata": {
        "colab": {
          "base_uri": "https://localhost:8080/"
        },
        "id": "qeJJCrtKvAti",
        "outputId": "b7f62650-d1ef-4e79-d81f-d7872264dc3c"
      },
      "source": [
        "rf_cv_model = GridSearchCV(rf_model, rf_params, cv = 10, n_jobs= -1, verbose= 2).fit(X_train, y_train)"
      ],
      "execution_count": null,
      "outputs": [
        {
          "output_type": "stream",
          "text": [
            "Fitting 10 folds for each of 144 candidates, totalling 1440 fits\n"
          ],
          "name": "stdout"
        },
        {
          "output_type": "stream",
          "text": [
            "[Parallel(n_jobs=-1)]: Using backend LokyBackend with 2 concurrent workers.\n",
            "[Parallel(n_jobs=-1)]: Done  37 tasks      | elapsed:   32.6s\n",
            "[Parallel(n_jobs=-1)]: Done 158 tasks      | elapsed:  2.3min\n",
            "[Parallel(n_jobs=-1)]: Done 361 tasks      | elapsed:  5.5min\n",
            "[Parallel(n_jobs=-1)]: Done 644 tasks      | elapsed:  9.7min\n",
            "[Parallel(n_jobs=-1)]: Done 1009 tasks      | elapsed: 15.6min\n",
            "[Parallel(n_jobs=-1)]: Done 1440 out of 1440 | elapsed: 22.5min finished\n"
          ],
          "name": "stderr"
        }
      ]
    },
    {
      "cell_type": "code",
      "metadata": {
        "colab": {
          "base_uri": "https://localhost:8080/"
        },
        "id": "vNAB1Cl3zZoM",
        "outputId": "744dea24-ef99-49c5-9d50-0423904999c7"
      },
      "source": [
        "rf_cv_model.best_params_"
      ],
      "execution_count": null,
      "outputs": [
        {
          "output_type": "execute_result",
          "data": {
            "text/plain": [
              "{'max_depth': 8,\n",
              " 'max_features': 2,\n",
              " 'min_samples_split': 2,\n",
              " 'n_estimators': 200}"
            ]
          },
          "metadata": {
            "tags": []
          },
          "execution_count": 77
        }
      ]
    },
    {
      "cell_type": "code",
      "metadata": {
        "id": "XZxpZKH8zhoH"
      },
      "source": [
        "rf_model = RandomForestRegressor(random_state= 42, max_depth = 8,\n",
        "                                 min_samples_split = 2, n_estimators= 200)\n",
        "rf_tuned = rf_model.fit(X_train, y_train)"
      ],
      "execution_count": null,
      "outputs": []
    },
    {
      "cell_type": "code",
      "metadata": {
        "colab": {
          "base_uri": "https://localhost:8080/"
        },
        "id": "o0hRx7yj0BhO",
        "outputId": "55ac887d-0a32-413c-9e00-5dcf26d1b1f9"
      },
      "source": [
        "y_pred = rf_tuned.predict(X_test)\n",
        "np.sqrt(mean_squared_error(y_test, y_pred))"
      ],
      "execution_count": null,
      "outputs": [
        {
          "output_type": "execute_result",
          "data": {
            "text/plain": [
              "342.41116104853967"
            ]
          },
          "metadata": {
            "tags": []
          },
          "execution_count": 81
        }
      ]
    },
    {
      "cell_type": "markdown",
      "metadata": {
        "id": "tLCR_GK60XB3"
      },
      "source": [
        "## Değişken Önem Düzeyi"
      ]
    },
    {
      "cell_type": "code",
      "metadata": {
        "colab": {
          "base_uri": "https://localhost:8080/",
          "height": 279
        },
        "id": "loRTDNuF0WEE",
        "outputId": "97480839-bce9-4f89-bdd5-75602a8927a9"
      },
      "source": [
        "Importance = pd.DataFrame({'Importance':rf_tuned.feature_importances_*100},\n",
        "                          index = X_train.columns)\n",
        "Importance.sort_values(by = 'Importance',\n",
        "                       axis = 0,\n",
        "                       ascending = True).plot(kind = 'barh', color = 'r', )\n",
        "plt.xlabel('Variable Importance')\n",
        "plt.gca().legend_ = None"
      ],
      "execution_count": null,
      "outputs": [
        {
          "output_type": "display_data",
          "data": {
            "image/png": "[encoded data removed]",
            "text/plain": [
              "<Figure size 432x288 with 1 Axes>"
            ]
          },
          "metadata": {
            "tags": [],
            "needs_background": "light"
          }
        }
      ]
    },
    {
      "cell_type": "markdown",
      "metadata": {
        "id": "ztsWXDXu4Q36"
      },
      "source": [
        "# Gradient Boosting Machines"
      ]
    },
    {
      "cell_type": "markdown",
      "metadata": {
        "id": "GJdIqKIe4aDM"
      },
      "source": [
        "## Kütüphane"
      ]
    },
    {
      "cell_type": "code",
      "metadata": {
        "id": "JE9LCntY4aDO"
      },
      "source": [
        "import numpy as np\n",
        "import pandas as pd\n",
        "from sklearn.model_selection import train_test_split\n",
        "from sklearn.model_selection import GridSearchCV\n",
        "from sklearn.metrics import mean_squared_error, r2_score\n",
        "import matplotlib.pyplot as plt\n",
        "from sklearn.preprocessing import scale, StandardScaler #Standartlaştırma işlemleri için\n",
        "from sklearn import model_selection\n",
        "from sklearn.linear_model import LinearRegression\n",
        "from sklearn.tree import DecisionTreeRegressor\n",
        "from sklearn.neighbors import KNeighborsRegressor\n",
        "from sklearn.neural_network import MLPRegressor\n",
        "from sklearn.ensemble import RandomForestRegressor, GradientBoostingRegressor\n",
        "from sklearn import neighbors\n",
        "from sklearn.svm import SVR"
      ],
      "execution_count": null,
      "outputs": []
    },
    {
      "cell_type": "code",
      "metadata": {
        "id": "257bkN9m4aDQ"
      },
      "source": [
        "# uyarı engelemek için\n",
        "from warnings import filterwarnings\n",
        "filterwarnings('ignore')"
      ],
      "execution_count": null,
      "outputs": []
    },
    {
      "cell_type": "markdown",
      "metadata": {
        "id": "LzWDHNMk4cv1"
      },
      "source": [
        "## Veri Seti yükleme"
      ]
    },
    {
      "cell_type": "code",
      "metadata": {
        "id": "YFFtJmap4cv2"
      },
      "source": [
        "df = pd.read_csv('/content/drive/Colab Notebooks/MakineOgrenmesi/Hitters.csv')\n",
        "df = df.dropna()\n",
        "dms = pd.get_dummies(df[['League', 'Division', 'NewLeague']])\n",
        "y = df[\"Salary\"]\n",
        "X_ = df.drop(['Salary', 'League', 'Division', 'NewLeague'], axis=1).astype('float64')\n",
        "X = pd.concat([X_, dms[['League_N', 'Division_W', 'NewLeague_N']]], axis=1)\n",
        "X_train, X_test, y_train, y_test = train_test_split(X, y, test_size=0.25, random_state=42)"
      ],
      "execution_count": null,
      "outputs": []
    },
    {
      "cell_type": "markdown",
      "metadata": {
        "id": "XKQ1rr2Q4i--"
      },
      "source": [
        "## Model ve Tahmin"
      ]
    },
    {
      "cell_type": "code",
      "metadata": {
        "colab": {
          "base_uri": "https://localhost:8080/"
        },
        "id": "yVjroC7T4m_u",
        "outputId": "d1a50a34-97ae-4219-b31f-780a0b6bb1f5"
      },
      "source": [
        "gbm_model = GradientBoostingRegressor().fit(X_train, y_train)\n",
        "gbm_model"
      ],
      "execution_count": null,
      "outputs": [
        {
          "output_type": "execute_result",
          "data": {
            "text/plain": [
              "GradientBoostingRegressor(alpha=0.9, ccp_alpha=0.0, criterion='friedman_mse',\n",
              "                          init=None, learning_rate=0.1, loss='ls', max_depth=3,\n",
              "                          max_features=None, max_leaf_nodes=None,\n",
              "                          min_impurity_decrease=0.0, min_impurity_split=None,\n",
              "                          min_samples_leaf=1, min_samples_split=2,\n",
              "                          min_weight_fraction_leaf=0.0, n_estimators=100,\n",
              "                          n_iter_no_change=None, presort='deprecated',\n",
              "                          random_state=None, subsample=1.0, tol=0.0001,\n",
              "                          validation_fraction=0.1, verbose=0, warm_start=False)"
            ]
          },
          "metadata": {
            "tags": []
          },
          "execution_count": 91
        }
      ]
    },
    {
      "cell_type": "code",
      "metadata": {
        "colab": {
          "base_uri": "https://localhost:8080/"
        },
        "id": "3eIbzR074vaT",
        "outputId": "6dc091a2-89f0-4718-c9e8-314988b9d5e3"
      },
      "source": [
        "y_pred = gbm_model.predict(X_test)\n",
        "np.sqrt(mean_squared_error(y_test, y_pred))"
      ],
      "execution_count": null,
      "outputs": [
        {
          "output_type": "execute_result",
          "data": {
            "text/plain": [
              "353.390058937434"
            ]
          },
          "metadata": {
            "tags": []
          },
          "execution_count": 92
        }
      ]
    },
    {
      "cell_type": "markdown",
      "metadata": {
        "id": "JrKFJlZy47Py"
      },
      "source": [
        "## Model Tuning"
      ]
    },
    {
      "cell_type": "code",
      "metadata": {
        "id": "LZBk3te14-gO"
      },
      "source": [
        "gbm_params = {\"learning_rate\": [0.001,0.1,0.01],\n",
        "              \"max_depth\": [3,5,8],\n",
        "              \"n_estimators\": [100, 200, 500],\n",
        "              \"subsample\": [1,0.5,0.8],\n",
        "              \"loss\": [\"ls\", \"lad\", \"quantile\"]}"
      ],
      "execution_count": null,
      "outputs": []
    },
    {
      "cell_type": "code",
      "metadata": {
        "id": "ohu4_2MY6th_"
      },
      "source": [
        "gbm_model = GradientBoostingRegressor().fit(X_train, y_train)"
      ],
      "execution_count": null,
      "outputs": []
    },
    {
      "cell_type": "code",
      "metadata": {
        "colab": {
          "base_uri": "https://localhost:8080/"
        },
        "id": "YrY-0IcQ60oA",
        "outputId": "5bbac833-46be-44e1-ba1c-210e76517ce6"
      },
      "source": [
        "gbm_cv_model = GridSearchCV(gbm_model, gbm_params, \n",
        "                            cv = 10, n_jobs=-1, verbose= 2).fit(X_train, y_train)"
      ],
      "execution_count": null,
      "outputs": [
        {
          "output_type": "stream",
          "text": [
            "Fitting 10 folds for each of 243 candidates, totalling 2430 fits\n"
          ],
          "name": "stdout"
        },
        {
          "output_type": "stream",
          "text": [
            "[Parallel(n_jobs=-1)]: Using backend LokyBackend with 2 concurrent workers.\n",
            "[Parallel(n_jobs=-1)]: Done  37 tasks      | elapsed:    3.6s\n",
            "[Parallel(n_jobs=-1)]: Done 158 tasks      | elapsed:   25.2s\n",
            "[Parallel(n_jobs=-1)]: Done 361 tasks      | elapsed:  1.6min\n",
            "[Parallel(n_jobs=-1)]: Done 644 tasks      | elapsed:  3.7min\n",
            "[Parallel(n_jobs=-1)]: Done 1009 tasks      | elapsed:  5.5min\n",
            "[Parallel(n_jobs=-1)]: Done 1454 tasks      | elapsed:  8.9min\n",
            "[Parallel(n_jobs=-1)]: Done 1981 tasks      | elapsed: 11.8min\n",
            "[Parallel(n_jobs=-1)]: Done 2430 out of 2430 | elapsed: 15.6min finished\n"
          ],
          "name": "stderr"
        }
      ]
    },
    {
      "cell_type": "code",
      "metadata": {
        "colab": {
          "base_uri": "https://localhost:8080/"
        },
        "id": "RA83HN6h7aZi",
        "outputId": "3f0fa445-1d44-46a6-8f79-3c685747d64d"
      },
      "source": [
        "gbm_cv_model.best_params_"
      ],
      "execution_count": null,
      "outputs": [
        {
          "output_type": "execute_result",
          "data": {
            "text/plain": [
              "{'learning_rate': 0.1,\n",
              " 'loss': 'lad',\n",
              " 'max_depth': 3,\n",
              " 'n_estimators': 100,\n",
              " 'subsample': 1}"
            ]
          },
          "metadata": {
            "tags": []
          },
          "execution_count": 97
        }
      ]
    },
    {
      "cell_type": "code",
      "metadata": {
        "id": "MA3Gh_XK7rix"
      },
      "source": [
        "gbm_tuned = GradientBoostingRegressor(learning_rate= 0.1, loss = \"lad\", max_depth = 3,\n",
        "                                      n_estimators = 200, subsample = 1).fit(X_train, y_train)"
      ],
      "execution_count": null,
      "outputs": []
    },
    {
      "cell_type": "code",
      "metadata": {
        "id": "UJTPNaXn8G73"
      },
      "source": [
        "y_pred = gbm_tuned.predict(X_test)\n",
        "np.sqrt(mean_squared_error(y_test, y_pred))"
      ],
      "execution_count": null,
      "outputs": []
    },
    {
      "cell_type": "markdown",
      "metadata": {
        "id": "8vE13plm8oPr"
      },
      "source": [
        "## Değişkenlerin Önem Düzeyi"
      ]
    },
    {
      "cell_type": "code",
      "metadata": {
        "colab": {
          "base_uri": "https://localhost:8080/",
          "height": 279
        },
        "id": "siFhHWwg8XSS",
        "outputId": "16270620-9c4a-40b3-c1ad-dbd4269eb9c2"
      },
      "source": [
        "Importance = pd.DataFrame({'Importance':gbm_tuned.feature_importances_*100},\n",
        "                          index = X_train.columns)\n",
        "Importance.sort_values(by = 'Importance',\n",
        "                       axis = 0,\n",
        "                       ascending = True).plot(kind = 'barh', color = 'r', )\n",
        "plt.xlabel('Variable Importance')\n",
        "plt.gca().legend_ = None"
      ],
      "execution_count": null,
      "outputs": [
        {
          "output_type": "display_data",
          "data": {
            "image/png": "[encoded data removed]",
            "text/plain": [
              "<Figure size 432x288 with 1 Axes>"
            ]
          },
          "metadata": {
            "tags": [],
            "needs_background": "light"
          }
        }
      ]
    },
    {
      "cell_type": "markdown",
      "metadata": {
        "id": "9slhdDQV9EjC"
      },
      "source": [
        "# XGBoost"
      ]
    },
    {
      "cell_type": "markdown",
      "metadata": {
        "id": "4HTX64BQ9R4U"
      },
      "source": [
        "## Kütüphane"
      ]
    },
    {
      "cell_type": "code",
      "metadata": {
        "id": "qFPtHq8I9R4W"
      },
      "source": [
        "import numpy as np\n",
        "import pandas as pd\n",
        "from sklearn.model_selection import train_test_split\n",
        "from sklearn.model_selection import GridSearchCV\n",
        "from sklearn.metrics import mean_squared_error, r2_score\n",
        "import matplotlib.pyplot as plt\n",
        "from sklearn.preprocessing import scale, StandardScaler #Standartlaştırma işlemleri için\n",
        "from sklearn import model_selection\n",
        "from sklearn.linear_model import LinearRegression\n",
        "from sklearn.tree import DecisionTreeRegressor\n",
        "from sklearn.neighbors import KNeighborsRegressor\n",
        "from sklearn.neural_network import MLPRegressor\n",
        "from sklearn.ensemble import RandomForestRegressor, GradientBoostingRegressor\n",
        "from sklearn import neighbors\n",
        "from sklearn.svm import SVR\n",
        "!pip install xgboost\n",
        "import xgboost\n",
        "from xgboost import XGBRegressor"
      ],
      "execution_count": null,
      "outputs": []
    },
    {
      "cell_type": "code",
      "metadata": {
        "id": "-DgkKgep9R4Y"
      },
      "source": [
        "# uyarı engelemek için\n",
        "from warnings import filterwarnings\n",
        "filterwarnings('ignore')"
      ],
      "execution_count": null,
      "outputs": []
    },
    {
      "cell_type": "markdown",
      "metadata": {
        "id": "UBsxeEtx9WrN"
      },
      "source": [
        "## Veri Seti yükleme"
      ]
    },
    {
      "cell_type": "code",
      "metadata": {
        "id": "9w8UuG_C9WrO"
      },
      "source": [
        "df = pd.read_csv('/content/drive/Colab Notebooks/MakineOgrenmesi/Hitters.csv')\n",
        "df = df.dropna()\n",
        "dms = pd.get_dummies(df[['League', 'Division', 'NewLeague']])\n",
        "y = df[\"Salary\"]\n",
        "X_ = df.drop(['Salary', 'League', 'Division', 'NewLeague'], axis=1).astype('float64')\n",
        "X = pd.concat([X_, dms[['League_N', 'Division_W', 'NewLeague_N']]], axis=1)\n",
        "X_train, X_test, y_train, y_test = train_test_split(X, y, test_size=0.25, random_state=42)"
      ],
      "execution_count": null,
      "outputs": []
    },
    {
      "cell_type": "markdown",
      "metadata": {
        "id": "tqbu91pl9eTS"
      },
      "source": [
        "## Model Ve Tahmin"
      ]
    },
    {
      "cell_type": "code",
      "metadata": {
        "colab": {
          "base_uri": "https://localhost:8080/"
        },
        "id": "GSnqgyRE9hsH",
        "outputId": "d66f6baa-12cf-4810-c9a9-28766cd4a7f4"
      },
      "source": [
        "xgb = XGBRegressor().fit(X_train, y_train)"
      ],
      "execution_count": null,
      "outputs": [
        {
          "output_type": "stream",
          "text": [
            "[22:15:47] WARNING: /workspace/src/objective/regression_obj.cu:152: reg:linear is now deprecated in favor of reg:squarederror.\n"
          ],
          "name": "stdout"
        }
      ]
    },
    {
      "cell_type": "code",
      "metadata": {
        "colab": {
          "base_uri": "https://localhost:8080/"
        },
        "id": "laUTaZna_Vka",
        "outputId": "0d14b6af-af38-4d77-e5be-00d5b01ce540"
      },
      "source": [
        "y_pred = xgb.predict(X_test)\n",
        "np.sqrt(mean_squared_error(y_test, y_pred))"
      ],
      "execution_count": null,
      "outputs": [
        {
          "output_type": "execute_result",
          "data": {
            "text/plain": [
              "359.91750599447033"
            ]
          },
          "metadata": {
            "tags": []
          },
          "execution_count": 112
        }
      ]
    },
    {
      "cell_type": "markdown",
      "metadata": {
        "id": "uqx0g0yJ_l6R"
      },
      "source": [
        "## Model Tuning"
      ]
    },
    {
      "cell_type": "code",
      "metadata": {
        "id": "qfPNoNSF_poo"
      },
      "source": [
        "xgb_params = {\"learning_rate\": [0.1,0.01,0.5],\n",
        "              \"max_depth\": [2,3,4,5,8],\n",
        "              \"n_estimators\": [100,200,500,1000],\n",
        "              \"colsample_bytree\":[0.4,0.4,1]} # bu oluşturalacak olan ağaçlarda alt küme belirtir"
      ],
      "execution_count": null,
      "outputs": []
    },
    {
      "cell_type": "code",
      "metadata": {
        "colab": {
          "base_uri": "https://localhost:8080/"
        },
        "id": "wjSfkim4AXMd",
        "outputId": "458f50b5-1311-48f5-b86b-45d9b7747a31"
      },
      "source": [
        "xgb_cv_model = GridSearchCV(xgb,xgb_params, cv = 10, n_jobs= -1, verbose=2).fit(X_train, y_train)"
      ],
      "execution_count": null,
      "outputs": [
        {
          "output_type": "stream",
          "text": [
            "Fitting 10 folds for each of 180 candidates, totalling 1800 fits\n"
          ],
          "name": "stdout"
        },
        {
          "output_type": "stream",
          "text": [
            "[Parallel(n_jobs=-1)]: Using backend LokyBackend with 2 concurrent workers.\n",
            "[Parallel(n_jobs=-1)]: Done  37 tasks      | elapsed:    4.4s\n",
            "[Parallel(n_jobs=-1)]: Done 262 tasks      | elapsed:   26.7s\n",
            "[Parallel(n_jobs=-1)]: Done 660 tasks      | elapsed:  1.1min\n",
            "[Parallel(n_jobs=-1)]: Done 1220 tasks      | elapsed:  2.0min\n",
            "[Parallel(n_jobs=-1)]: Done 1737 tasks      | elapsed:  3.4min\n"
          ],
          "name": "stderr"
        },
        {
          "output_type": "stream",
          "text": [
            "[22:24:46] WARNING: /workspace/src/objective/regression_obj.cu:152: reg:linear is now deprecated in favor of reg:squarederror.\n"
          ],
          "name": "stdout"
        },
        {
          "output_type": "stream",
          "text": [
            "[Parallel(n_jobs=-1)]: Done 1800 out of 1800 | elapsed:  3.5min finished\n"
          ],
          "name": "stderr"
        }
      ]
    },
    {
      "cell_type": "code",
      "metadata": {
        "colab": {
          "base_uri": "https://localhost:8080/"
        },
        "id": "9lHxNnnjAmOo",
        "outputId": "8374a57a-4f76-4a99-9a79-026fd67cb024"
      },
      "source": [
        "xgb_cv_model.best_params_"
      ],
      "execution_count": null,
      "outputs": [
        {
          "output_type": "execute_result",
          "data": {
            "text/plain": [
              "{'colsample_bytree': 0.4,\n",
              " 'learning_rate': 0.1,\n",
              " 'max_depth': 2,\n",
              " 'n_estimators': 1000}"
            ]
          },
          "metadata": {
            "tags": []
          },
          "execution_count": 115
        }
      ]
    },
    {
      "cell_type": "code",
      "metadata": {
        "colab": {
          "base_uri": "https://localhost:8080/"
        },
        "id": "pK4yREmFA0cs",
        "outputId": "47e35adc-9e70-41dd-8bbe-8bb56485542b"
      },
      "source": [
        "xgb_tuned = XGBRegressor(colsample_bytree= 0.4, learning_rate= 0.1, max_depth= 2,\n",
        "                         n_estimators = 1000).fit(X_train, y_train)"
      ],
      "execution_count": null,
      "outputs": [
        {
          "output_type": "stream",
          "text": [
            "[22:25:10] WARNING: /workspace/src/objective/regression_obj.cu:152: reg:linear is now deprecated in favor of reg:squarederror.\n"
          ],
          "name": "stdout"
        }
      ]
    },
    {
      "cell_type": "code",
      "metadata": {
        "colab": {
          "base_uri": "https://localhost:8080/"
        },
        "id": "uP_fucx1BXj3",
        "outputId": "58802163-3a88-4411-d8f0-c74dca02c4b1"
      },
      "source": [
        "y_pred= xgb_tuned.predict(X_test)\n",
        "np.sqrt(mean_squared_error(y_test, y_pred))"
      ],
      "execution_count": null,
      "outputs": [
        {
          "output_type": "execute_result",
          "data": {
            "text/plain": [
              "343.5566804929871"
            ]
          },
          "metadata": {
            "tags": []
          },
          "execution_count": 117
        }
      ]
    },
    {
      "cell_type": "markdown",
      "metadata": {
        "id": "2JyNl9NCBvj9"
      },
      "source": [
        "## Değişkenlerin Önem Düzeyi"
      ]
    },
    {
      "cell_type": "code",
      "metadata": {
        "colab": {
          "base_uri": "https://localhost:8080/",
          "height": 279
        },
        "id": "oo8d3FLtB0UF",
        "outputId": "1556dc33-b7e6-457b-9291-966f321ed8ea"
      },
      "source": [
        "Importance = pd.DataFrame({'Importance':xgb_tuned.feature_importances_*100},\n",
        "                          index = X_train.columns)\n",
        "Importance.sort_values(by = 'Importance',\n",
        "                       axis = 0,\n",
        "                       ascending = True).plot(kind = 'barh', color = 'r', )\n",
        "plt.xlabel('Variable Importance')\n",
        "plt.gca().legend_ = None"
      ],
      "execution_count": null,
      "outputs": [
        {
          "output_type": "display_data",
          "data": {
            "image/png": "[encoded data removed]",
            "text/plain": [
              "<Figure size 432x288 with 1 Axes>"
            ]
          },
          "metadata": {
            "tags": [],
            "needs_background": "light"
          }
        }
      ]
    },
    {
      "cell_type": "markdown",
      "metadata": {
        "id": "erpCiJ-kB7V5"
      },
      "source": [
        "# Light GBM"
      ]
    },
    {
      "cell_type": "markdown",
      "metadata": {
        "id": "SiCvma7fCPjb"
      },
      "source": [
        "## Kütüphane"
      ]
    },
    {
      "cell_type": "code",
      "metadata": {
        "id": "Kdd347L1CPje"
      },
      "source": [
        "import numpy as np\n",
        "import pandas as pd\n",
        "from sklearn.model_selection import train_test_split\n",
        "from sklearn.model_selection import GridSearchCV\n",
        "from sklearn.metrics import mean_squared_error, r2_score\n",
        "import matplotlib.pyplot as plt\n",
        "from sklearn.preprocessing import scale, StandardScaler #Standartlaştırma işlemleri için\n",
        "from sklearn import model_selection\n",
        "from sklearn.linear_model import LinearRegression\n",
        "from sklearn.tree import DecisionTreeRegressor\n",
        "from sklearn.neighbors import KNeighborsRegressor\n",
        "from sklearn.neural_network import MLPRegressor\n",
        "from sklearn.ensemble import RandomForestRegressor, GradientBoostingRegressor\n",
        "from sklearn import neighbors\n",
        "from sklearn.svm import SVR\n",
        "!pip install lightgbm\n",
        "import lightgbm\n",
        "from lightgbm import LGBMRegressor"
      ],
      "execution_count": null,
      "outputs": []
    },
    {
      "cell_type": "code",
      "metadata": {
        "id": "Bz8aIHbRCPjf"
      },
      "source": [
        "# uyarı engelemek için\n",
        "from warnings import filterwarnings\n",
        "filterwarnings('ignore')"
      ],
      "execution_count": null,
      "outputs": []
    },
    {
      "cell_type": "markdown",
      "metadata": {
        "id": "khJdOHQZCSsy"
      },
      "source": [
        "## Veri Seti yükleme"
      ]
    },
    {
      "cell_type": "code",
      "metadata": {
        "id": "HG26fDBcCSs0"
      },
      "source": [
        "df = pd.read_csv('/content/drive/Colab Notebooks/MakineOgrenmesi/Hitters.csv')\n",
        "df = df.dropna()\n",
        "dms = pd.get_dummies(df[['League', 'Division', 'NewLeague']])\n",
        "y = df[\"Salary\"]\n",
        "X_ = df.drop(['Salary', 'League', 'Division', 'NewLeague'], axis=1).astype('float64')\n",
        "X = pd.concat([X_, dms[['League_N', 'Division_W', 'NewLeague_N']]], axis=1)\n",
        "X_train, X_test, y_train, y_test = train_test_split(X, y, test_size=0.25, random_state=42)"
      ],
      "execution_count": null,
      "outputs": []
    },
    {
      "cell_type": "markdown",
      "metadata": {
        "id": "VcZDMz4yDgfi"
      },
      "source": [
        "## Model ve Tahmin"
      ]
    },
    {
      "cell_type": "code",
      "metadata": {
        "colab": {
          "base_uri": "https://localhost:8080/"
        },
        "id": "28cDPINdDjBi",
        "outputId": "3629bd78-b65a-486f-f5e6-585000f8af77"
      },
      "source": [
        "lgb_model = LGBMRegressor().fit(X_train, y_train)\n",
        "lgb_model"
      ],
      "execution_count": null,
      "outputs": [
        {
          "output_type": "execute_result",
          "data": {
            "text/plain": [
              "LGBMRegressor(boosting_type='gbdt', class_weight=None, colsample_bytree=1.0,\n",
              "              importance_type='split', learning_rate=0.1, max_depth=-1,\n",
              "              min_child_samples=20, min_child_weight=0.001, min_split_gain=0.0,\n",
              "              n_estimators=100, n_jobs=-1, num_leaves=31, objective=None,\n",
              "              random_state=None, reg_alpha=0.0, reg_lambda=0.0, silent=True,\n",
              "              subsample=1.0, subsample_for_bin=200000, subsample_freq=0)"
            ]
          },
          "metadata": {
            "tags": []
          },
          "execution_count": 128
        }
      ]
    },
    {
      "cell_type": "code",
      "metadata": {
        "colab": {
          "base_uri": "https://localhost:8080/"
        },
        "id": "wKdT9fWvDqYX",
        "outputId": "66740480-24a9-4a36-871b-a8c099de1b76"
      },
      "source": [
        "y_pred = lgb_model.predict(X_test)\n",
        "np.sqrt(mean_squared_error(y_test, y_pred))"
      ],
      "execution_count": null,
      "outputs": [
        {
          "output_type": "execute_result",
          "data": {
            "text/plain": [
              "363.8712087611089"
            ]
          },
          "metadata": {
            "tags": []
          },
          "execution_count": 129
        }
      ]
    },
    {
      "cell_type": "markdown",
      "metadata": {
        "id": "nvowXU9AD2Rz"
      },
      "source": [
        "## Model Tuning"
      ]
    },
    {
      "cell_type": "code",
      "metadata": {
        "id": "wGnSLs56D44X"
      },
      "source": [
        "lgbm_params = {\"learning_rate\": [0.01, 0.1, 0.5, 1],\n",
        "               \"n_estimation\": [20,40,100,200,500,100],\n",
        "               \"max_depth\": [1,2,3,4,5,6,7,8,9,10]}"
      ],
      "execution_count": null,
      "outputs": []
    },
    {
      "cell_type": "code",
      "metadata": {
        "colab": {
          "base_uri": "https://localhost:8080/"
        },
        "id": "t2yrwYI1Ehmb",
        "outputId": "ed478c23-1fbe-4325-947a-e248ed49b046"
      },
      "source": [
        "lgbm_cv_model = GridSearchCV(lgb_model, lgbm_params,\n",
        "                             cv = 10, n_jobs = -1,\n",
        "                             verbose = 2).fit(X_train, y_train)"
      ],
      "execution_count": null,
      "outputs": [
        {
          "output_type": "stream",
          "text": [
            "Fitting 10 folds for each of 240 candidates, totalling 2400 fits\n"
          ],
          "name": "stdout"
        },
        {
          "output_type": "stream",
          "text": [
            "[Parallel(n_jobs=-1)]: Using backend LokyBackend with 2 concurrent workers.\n",
            "[Parallel(n_jobs=-1)]: Done 144 tasks      | elapsed:    3.0s\n",
            "[Parallel(n_jobs=-1)]: Done 1112 tasks      | elapsed:   19.8s\n",
            "[Parallel(n_jobs=-1)]: Done 2400 out of 2400 | elapsed:   39.7s finished\n"
          ],
          "name": "stderr"
        }
      ]
    },
    {
      "cell_type": "code",
      "metadata": {
        "colab": {
          "base_uri": "https://localhost:8080/"
        },
        "id": "NSNvaqjAE4v4",
        "outputId": "7e674312-637d-4fa9-a65c-f6a47806f024"
      },
      "source": [
        "lgbm_cv_model.best_params_"
      ],
      "execution_count": null,
      "outputs": [
        {
          "output_type": "execute_result",
          "data": {
            "text/plain": [
              "{'learning_rate': 0.1, 'max_depth': 4, 'n_estimation': 20}"
            ]
          },
          "metadata": {
            "tags": []
          },
          "execution_count": 132
        }
      ]
    },
    {
      "cell_type": "code",
      "metadata": {
        "id": "tS2OyNNJFLMH"
      },
      "source": [
        "lgbm_tuned = LGBMRegressor(learning_rate=0.1, max_depth=4, n_estimators=20).fit(X_train, y_train)"
      ],
      "execution_count": null,
      "outputs": []
    },
    {
      "cell_type": "code",
      "metadata": {
        "colab": {
          "base_uri": "https://localhost:8080/"
        },
        "id": "0WDOs3WsFbX8",
        "outputId": "aac59b1d-29e8-488f-df16-bf9b765362f3"
      },
      "source": [
        "y_pred = lgbm_tuned.predict(X_test)\n",
        "np.sqrt(mean_squared_error(y_test, y_pred))"
      ],
      "execution_count": null,
      "outputs": [
        {
          "output_type": "execute_result",
          "data": {
            "text/plain": [
              "371.34440690249164"
            ]
          },
          "metadata": {
            "tags": []
          },
          "execution_count": 134
        }
      ]
    },
    {
      "cell_type": "markdown",
      "metadata": {
        "id": "SpEdhSfZFqwZ"
      },
      "source": [
        "## Değişkenlerin Önem Düzeyi"
      ]
    },
    {
      "cell_type": "code",
      "metadata": {
        "colab": {
          "base_uri": "https://localhost:8080/",
          "height": 279
        },
        "id": "tdaascuZFqwb",
        "outputId": "a6699699-4ed6-428c-bb34-7d8122fdd3b5"
      },
      "source": [
        "Importance = pd.DataFrame({'Importance':lgbm_tuned.feature_importances_*100},\n",
        "                          index = X_train.columns)\n",
        "Importance.sort_values(by = 'Importance',\n",
        "                       axis = 0,\n",
        "                       ascending = True).plot(kind = 'barh', color = 'r', )\n",
        "plt.xlabel('Variable Importance')\n",
        "plt.gca().legend_ = None"
      ],
      "execution_count": null,
      "outputs": [
        {
          "output_type": "display_data",
          "data": {
            "image/png": "[encoded data removed]",
            "text/plain": [
              "<Figure size 432x288 with 1 Axes>"
            ]
          },
          "metadata": {
            "tags": [],
            "needs_background": "light"
          }
        }
      ]
    },
    {
      "cell_type": "markdown",
      "metadata": {
        "id": "IbIf-Yn5F4HI"
      },
      "source": [
        "# CatBoost"
      ]
    },
    {
      "cell_type": "markdown",
      "metadata": {
        "id": "ocy1S4ryGjvI"
      },
      "source": [
        "## Kütüphane"
      ]
    },
    {
      "cell_type": "code",
      "metadata": {
        "colab": {
          "base_uri": "https://localhost:8080/"
        },
        "id": "3h1F79VIGjvL",
        "outputId": "a9796fd6-1dad-42c0-e334-af4992ed6094"
      },
      "source": [
        "import numpy as np\n",
        "import pandas as pd\n",
        "from sklearn.model_selection import train_test_split\n",
        "from sklearn.model_selection import GridSearchCV\n",
        "from sklearn.metrics import mean_squared_error, r2_score\n",
        "import matplotlib.pyplot as plt\n",
        "from sklearn.preprocessing import scale, StandardScaler #Standartlaştırma işlemleri için\n",
        "from sklearn import model_selection\n",
        "from sklearn.linear_model import LinearRegression\n",
        "from sklearn.tree import DecisionTreeRegressor\n",
        "from sklearn.neighbors import KNeighborsRegressor\n",
        "from sklearn.neural_network import MLPRegressor\n",
        "from sklearn.ensemble import RandomForestRegressor, GradientBoostingRegressor\n",
        "from sklearn import neighbors\n",
        "from sklearn.svm import SVR\n",
        "!pip install catboost\n",
        "import catboost\n",
        "from catboost import CatBoostRegressor"
      ],
      "execution_count": null,
      "outputs": [
        {
          "output_type": "stream",
          "text": [
            "Collecting catboost\n",
            "  Downloading catboost-0.26-cp37-none-manylinux1_x86_64.whl (69.2 MB)\n",
            "\u001b[K     |████████████████████████████████| 69.2 MB 5.6 kB/s \n",
            "\u001b[?25hRequirement already satisfied: plotly in /usr/local/lib/python3.7/dist-packages (from catboost) (4.4.1)\n",
            "Requirement already satisfied: six in /usr/local/lib/python3.7/dist-packages (from catboost) (1.15.0)\n",
            "Requirement already satisfied: matplotlib in /usr/local/lib/python3.7/dist-packages (from catboost) (3.2.2)\n",
            "Requirement already satisfied: pandas>=0.24.0 in /usr/local/lib/python3.7/dist-packages (from catboost) (1.1.5)\n",
            "Requirement already satisfied: scipy in /usr/local/lib/python3.7/dist-packages (from catboost) (1.4.1)\n",
            "Requirement already satisfied: numpy>=1.16.0 in /usr/local/lib/python3.7/dist-packages (from catboost) (1.19.5)\n",
            "Requirement already satisfied: graphviz in /usr/local/lib/python3.7/dist-packages (from catboost) (0.10.1)\n",
            "Requirement already satisfied: pytz>=2017.2 in /usr/local/lib/python3.7/dist-packages (from pandas>=0.24.0->catboost) (2018.9)\n",
            "Requirement already satisfied: python-dateutil>=2.7.3 in /usr/local/lib/python3.7/dist-packages (from pandas>=0.24.0->catboost) (2.8.1)\n",
            "Requirement already satisfied: kiwisolver>=1.0.1 in /usr/local/lib/python3.7/dist-packages (from matplotlib->catboost) (1.3.1)\n",
            "Requirement already satisfied: pyparsing!=2.0.4,!=2.1.2,!=2.1.6,>=2.0.1 in /usr/local/lib/python3.7/dist-packages (from matplotlib->catboost) (2.4.7)\n",
            "Requirement already satisfied: cycler>=0.10 in /usr/local/lib/python3.7/dist-packages (from matplotlib->catboost) (0.10.0)\n",
            "Requirement already satisfied: retrying>=1.3.3 in /usr/local/lib/python3.7/dist-packages (from plotly->catboost) (1.3.3)\n",
            "Installing collected packages: catboost\n",
            "Successfully installed catboost-0.26\n"
          ],
          "name": "stdout"
        }
      ]
    },
    {
      "cell_type": "code",
      "metadata": {
        "id": "aHukd9yFGjvN"
      },
      "source": [
        "# uyarı engelemek için\n",
        "from warnings import filterwarnings\n",
        "filterwarnings('ignore')"
      ],
      "execution_count": null,
      "outputs": []
    },
    {
      "cell_type": "markdown",
      "metadata": {
        "id": "b5gIt2ssGmAe"
      },
      "source": [
        "## Veri Seti yükleme"
      ]
    },
    {
      "cell_type": "code",
      "metadata": {
        "id": "OD7yPyVVGmAf"
      },
      "source": [
        "df = pd.read_csv('/content/drive/Colab Notebooks/MakineOgrenmesi/Hitters.csv')\n",
        "df = df.dropna()\n",
        "dms = pd.get_dummies(df[['League', 'Division', 'NewLeague']])\n",
        "y = df[\"Salary\"]\n",
        "X_ = df.drop(['Salary', 'League', 'Division', 'NewLeague'], axis=1).astype('float64')\n",
        "X = pd.concat([X_, dms[['League_N', 'Division_W', 'NewLeague_N']]], axis=1)\n",
        "X_train, X_test, y_train, y_test = train_test_split(X, y, test_size=0.25, random_state=42)"
      ],
      "execution_count": null,
      "outputs": []
    },
    {
      "cell_type": "markdown",
      "metadata": {
        "id": "snIE1fI4G-MA"
      },
      "source": [
        "## Model ve Tahmin"
      ]
    },
    {
      "cell_type": "code",
      "metadata": {
        "id": "TuRiD42jHBfU"
      },
      "source": [
        "catb_model = CatBoostRegressor().fit(X_train, y_train)"
      ],
      "execution_count": null,
      "outputs": []
    },
    {
      "cell_type": "code",
      "metadata": {
        "colab": {
          "base_uri": "https://localhost:8080/"
        },
        "id": "2-XUynLyHRUB",
        "outputId": "2609f3d1-a9c5-4216-eade-59e9ba950214"
      },
      "source": [
        "y_pred = catb_model.predict(X_test)\n",
        "np.sqrt(mean_squared_error(y_test, y_pred))"
      ],
      "execution_count": null,
      "outputs": [
        {
          "output_type": "execute_result",
          "data": {
            "text/plain": [
              "350.2683163098795"
            ]
          },
          "metadata": {
            "tags": []
          },
          "execution_count": 144
        }
      ]
    },
    {
      "cell_type": "markdown",
      "metadata": {
        "id": "QMYqHGOFHhDU"
      },
      "source": [
        "## Model Tuning"
      ]
    },
    {
      "cell_type": "code",
      "metadata": {
        "id": "zaEUyOXTHnxK"
      },
      "source": [
        "cat_params = {\"iterations\": [200,500,100], # iterations ağaç sayısıdır\n",
        "              \"learning_rate\": [0.01,0.1],\n",
        "              \"depth\": [3,6,8]} "
      ],
      "execution_count": null,
      "outputs": []
    },
    {
      "cell_type": "code",
      "metadata": {
        "id": "ts1aawNQIOLE"
      },
      "source": [
        "catb_model = CatBoostRegressor()"
      ],
      "execution_count": null,
      "outputs": []
    },
    {
      "cell_type": "code",
      "metadata": {
        "id": "PCBCaUUdITdO"
      },
      "source": [
        "catb_cv_model = GridSearchCV( catb_model, cat_params,\n",
        "                             cv= 5, n_jobs=-1, verbose=2).fit(X_train, y_train)"
      ],
      "execution_count": null,
      "outputs": []
    },
    {
      "cell_type": "code",
      "metadata": {
        "colab": {
          "base_uri": "https://localhost:8080/"
        },
        "id": "-xg20TgBI4gE",
        "outputId": "29162f56-a2ba-464b-c6a9-daf1b41f928d"
      },
      "source": [
        "catb_cv_model.best_params_"
      ],
      "execution_count": null,
      "outputs": [
        {
          "output_type": "execute_result",
          "data": {
            "text/plain": [
              "{'depth': 3, 'iterations': 200, 'learning_rate': 0.1}"
            ]
          },
          "metadata": {
            "tags": []
          },
          "execution_count": 151
        }
      ]
    },
    {
      "cell_type": "code",
      "metadata": {
        "id": "z2lM2MMeI_W3"
      },
      "source": [
        "catb_tuned= CatBoostRegressor(depth =3, iterations = 500,\n",
        "                              learning_rate = 0.1).fit(X_train, y_train)"
      ],
      "execution_count": null,
      "outputs": []
    },
    {
      "cell_type": "code",
      "metadata": {
        "colab": {
          "base_uri": "https://localhost:8080/"
        },
        "id": "0cR0kDhGJX72",
        "outputId": "d5ebeae6-9521-4030-eaad-4fe2971f319e"
      },
      "source": [
        "y_pred = catb_tuned.predict(X_test)\n",
        "np.sqrt(mean_squared_error(y_test, y_pred))"
      ],
      "execution_count": null,
      "outputs": [
        {
          "output_type": "execute_result",
          "data": {
            "text/plain": [
              "336.40041748521486"
            ]
          },
          "metadata": {
            "tags": []
          },
          "execution_count": 155
        }
      ]
    },
    {
      "cell_type": "markdown",
      "metadata": {
        "id": "6huLBNCnkaC5"
      },
      "source": [
        "# Makine öğrenmesi görevlerinin otomatikleştirilmesi"
      ]
    },
    {
      "cell_type": "markdown",
      "metadata": {
        "id": "JdiFB2TXkfW5"
      },
      "source": [
        "## Kütüphane"
      ]
    },
    {
      "cell_type": "code",
      "metadata": {
        "id": "X1LMjgm0kfW8"
      },
      "source": [
        "import numpy as np\n",
        "import pandas as pd\n",
        "from sklearn.model_selection import train_test_split\n",
        "from sklearn.model_selection import GridSearchCV\n",
        "from sklearn.metrics import mean_squared_error, r2_score\n",
        "import matplotlib.pyplot as plt\n",
        "from sklearn.preprocessing import scale, StandardScaler #Standartlaştırma işlemleri için\n",
        "from sklearn import model_selection\n",
        "from sklearn.linear_model import LinearRegression\n",
        "from sklearn.tree import DecisionTreeRegressor\n",
        "from sklearn.neighbors import KNeighborsRegressor\n",
        "from sklearn.neural_network import MLPRegressor\n",
        "from sklearn.ensemble import RandomForestRegressor, GradientBoostingRegressor\n",
        "from sklearn import neighbors\n",
        "from sklearn.svm import SVR\n",
        "!pip install catboost\n",
        "import catboost\n",
        "from catboost import CatBoostRegressor\n",
        "!pip install lightgbm\n",
        "import lightgbm\n",
        "from lightgbm import LGBMRegressor\n",
        "!pip install xgboost\n",
        "import xgboost\n",
        "from xgboost import XGBRegressor"
      ],
      "execution_count": null,
      "outputs": []
    },
    {
      "cell_type": "code",
      "metadata": {
        "id": "cwfKNS-EkfW-"
      },
      "source": [
        "# uyarı engelemek için\n",
        "from warnings import filterwarnings\n",
        "filterwarnings('ignore')"
      ],
      "execution_count": null,
      "outputs": []
    },
    {
      "cell_type": "markdown",
      "metadata": {
        "id": "HEqEZ-FxkjMA"
      },
      "source": [
        "## Veri Seti yükleme"
      ]
    },
    {
      "cell_type": "code",
      "metadata": {
        "id": "IvuRPS-skjMD"
      },
      "source": [
        "df = pd.read_csv('/content/drive/Colab Notebooks/MakineOgrenmesi/Hitters.csv')\n",
        "df = df.dropna()\n",
        "dms = pd.get_dummies(df[['League', 'Division', 'NewLeague']])\n"
      ],
      "execution_count": null,
      "outputs": []
    },
    {
      "cell_type": "markdown",
      "metadata": {
        "id": "nIRqZF2YlhXV"
      },
      "source": [
        "## Otomatikleştirme (manuel kısım)"
      ]
    },
    {
      "cell_type": "code",
      "metadata": {
        "id": "p4HXl5qwmayl"
      },
      "source": [
        "def compML(df, y, alg):\n",
        "  #Train-Test ayrımı\n",
        "    y = df[y]\n",
        "    X_ = df.drop(['Salary', 'League', 'Division', 'NewLeague'], axis=1).astype('float64')\n",
        "    X = pd.concat([X_, dms[['League_N', 'Division_W', 'NewLeague_N']]], axis=1)\n",
        "    X_train, X_test, y_train, y_test = train_test_split(X, y, test_size=0.25, random_state=42)\n",
        "\n",
        "    #Modelleme\n",
        "    model = alg().fit(X_train, y_train)\n",
        "    y_pred = model.predict(X_test)\n",
        "    RMSE =np.sqrt(mean_squared_error(y_test, y_pred))\n",
        "    model_ismi = alg.__name__\n",
        "    print(model_ismi, \"Modeli Test Hatası:\", RMSE)\n",
        "    return RMSE "
      ],
      "execution_count": null,
      "outputs": []
    },
    {
      "cell_type": "code",
      "metadata": {
        "colab": {
          "base_uri": "https://localhost:8080/"
        },
        "id": "XlOsp0_TlinH",
        "outputId": "7cfb1fe0-45b1-48cb-ff05-f72b6bf08c0d"
      },
      "source": [
        "compML(df, \"Salary\", LGBMRegressor)"
      ],
      "execution_count": null,
      "outputs": [
        {
          "output_type": "stream",
          "text": [
            "LGBMRegressor Modeli Test Hatası: 363.8712087611089\n"
          ],
          "name": "stdout"
        },
        {
          "output_type": "execute_result",
          "data": {
            "text/plain": [
              "363.8712087611089"
            ]
          },
          "metadata": {
            "tags": []
          },
          "execution_count": 22
        }
      ]
    },
    {
      "cell_type": "markdown",
      "metadata": {
        "id": "eQL9p5lqodA5"
      },
      "source": [
        "## Otomatikleştirme full otoamatik"
      ]
    },
    {
      "cell_type": "code",
      "metadata": {
        "id": "VajcW1z8ohJn"
      },
      "source": [
        "models = [LGBMRegressor, XGBRegressor, GradientBoostingRegressor,\n",
        "          RandomForestRegressor, DecisionTreeRegressor, MLPRegressor,\n",
        "          KNeighborsRegressor, SVR]"
      ],
      "execution_count": null,
      "outputs": []
    },
    {
      "cell_type": "code",
      "metadata": {
        "colab": {
          "base_uri": "https://localhost:8080/"
        },
        "id": "seDkzRF9o-Kr",
        "outputId": "44f5a6c3-f77b-4e44-a4d8-d3bc56036755"
      },
      "source": [
        "for i in models:\n",
        "    compML(df, \"Salary\", i)"
      ],
      "execution_count": null,
      "outputs": [
        {
          "output_type": "stream",
          "text": [
            "LGBMRegressor Modeli Test Hatası: 363.8712087611089\n",
            "[15:24:31] WARNING: /workspace/src/objective/regression_obj.cu:152: reg:linear is now deprecated in favor of reg:squarederror.\n",
            "XGBRegressor Modeli Test Hatası: 359.91750599447033\n",
            "GradientBoostingRegressor Modeli Test Hatası: 349.3052188151684\n",
            "RandomForestRegressor Modeli Test Hatası: 338.7303983281385\n",
            "DecisionTreeRegressor Modeli Test Hatası: 490.20035881281456\n",
            "MLPRegressor Modeli Test Hatası: 431.51452731079684\n",
            "KNeighborsRegressor Modeli Test Hatası: 426.6570764525201\n",
            "SVR Modeli Test Hatası: 460.0032657244849\n"
          ],
          "name": "stdout"
        }
      ]
    }
  ]
}